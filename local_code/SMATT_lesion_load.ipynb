{
 "cells": [
  {
   "cell_type": "code",
   "execution_count": 15,
   "id": "fluid-habitat",
   "metadata": {},
   "outputs": [],
   "source": [
    "import numpy as np\n",
    "import pandas as pd\n",
    "import nibabel as nib \n",
    "import glob"
   ]
  },
  {
   "cell_type": "code",
   "execution_count": 9,
   "id": "blocked-european",
   "metadata": {},
   "outputs": [
    {
     "name": "stdout",
     "output_type": "stream",
     "text": [
      "(1068, 21)\n"
     ]
    }
   ],
   "source": [
    "df=pd.read_table('~/GIT/ENIGMA/data/Behaviour_Information_ALL_April7_2022_sorted.csv', header=0, delimiter=',')\n",
    "sub_left=df['LESIONED_HEMISPHERE']==1 "
   ]
  },
  {
   "cell_type": "code",
   "execution_count": 150,
   "id": "democratic-mentor",
   "metadata": {},
   "outputs": [],
   "source": [
    "# load SMATT\n",
    "smatt_dir= '/smatt_all_motor_rois/smatt-template/'\n",
    "smatt_files = glob.glob(smatt_dir + '*.nii');\n",
    "\n",
    "smatts = [smatt.replace(smatt_dir, '').replace('-S-MATT.nii', '') for smatt in smatt_files]\n",
    "smatts.remove('S-MATT.nii')\n",
    "smatts.sort()\n",
    "\n",
    "\n",
    "LM1_CST = nib.load(smatt_dir + 'Left-M1-S-MATT.nii').get_fdata()\n",
    "LPMd_CST = nib.load(smatt_dir + 'Left-PMd-S-MATT.nii').get_fdata()\n",
    "LPMv_CST = nib.load(smatt_dir + 'Left-PMv-S-MATT.nii').get_fdata()\n",
    "LS1_CST = nib.load(smatt_dir + 'Left-S1-S-MATT.nii').get_fdata()\n",
    "LSMA_CST = nib.load(smatt_dir + 'Left-SMA-S-MATT.nii').get_fdata()\n",
    "LpreSMA_CST = nib.load(smatt_dir + 'Left-preSMA-S-MATT.nii').get_fdata()\n",
    "\n",
    "RM1_CST = nib.load(smatt_dir + 'Right-M1-S-MATT.nii').get_fdata()\n",
    "RPMd_CST = nib.load(smatt_dir + 'Right-PMd-S-MATT.nii').get_fdata()\n",
    "RPMv_CST = nib.load(smatt_dir + 'Right-PMv-S-MATT.nii').get_fdata()\n",
    "RS1_CST = nib.load(smatt_dir + 'Right-S1-S-MATT.nii').get_fdata()\n",
    "RSMA_CST = nib.load(smatt_dir + 'Right-SMA-S-MATT.nii').get_fdata()\n",
    "RpreSMA_CST = nib.load(smatt_dir + 'Right-preSMA-S-MATT.nii').get_fdata()\n",
    "\n",
    "colnames = ['Left-M1','Left-PMd','Left-PMv','Left-S1','Left-SMA','Left-preSMA','Right-M1','Right-PMd','Right-PMv','Right-S1','Right-SMA','Right-preSMA']\n"
   ]
  },
  {
   "cell_type": "code",
   "execution_count": null,
   "id": "veterinary-chemistry",
   "metadata": {},
   "outputs": [],
   "source": [
    "lesion_folder = '/Users/emilyolafson/GIT/ENIGMA/data/lesionmasks/all_lesionmasks_2009tov6_usingSym_rename/'\n",
    "\n",
    "# calculate lesion load for each subject and append to growing table\n",
    "sub_vecs=np.empty(shape=(len(df), 12))\n",
    "                  \n",
    "for sub in range(0,len(df)):\n",
    "    lesion = nib.load(lesion_folder+  df.loc[df.index[sub],'BIDS_ID']+'.nii.gz').get_fdata();\n",
    "    \n",
    "    LM1_CST_sub=np.sum(lesion*LM1_CST)\n",
    "    LPMd_CST_sub=np.sum(lesion*LPMd_CST)\n",
    "    LPMv_CST_sub=np.sum(lesion*LPMv_CST)\n",
    "    LS1_CST_sub=np.sum(lesion*LS1_CST)\n",
    "    LSMA_CST_sub=np.sum(lesion*LSMA_CST)\n",
    "    LpreSMA_CST_sub=np.sum(lesion*LpreSMA_CST)\n",
    "\n",
    "    RM1_CST_sub=np.sum(lesion*RM1_CST)\n",
    "    RPMd_CST_sub=np.sum(lesion*RPMd_CST)\n",
    "    RPMv_CST_sub=np.sum(lesion*RPMv_CST)\n",
    "    RS1_CST_sub=np.sum(lesion*RS1_CST)\n",
    "    RSMA_CST_sub=np.sum(lesion*RSMA_CST)\n",
    "    RpreSMA_CST_sub=np.sum(lesion*RpreSMA_CST)\n",
    "    \n",
    "    subvec=[LM1_CST_sub, LPMd_CST_sub, LPMv_CST_sub, LS1_CST_sub, LSMA_CST_sub, LpreSMA_CST_sub, RM1_CST_sub, RPMd_CST_sub, RPMv_CST_sub, RS1_CST_sub, RSMA_CST_sub, RpreSMA_CST_sub]\n",
    "    sub_vecs=np.append(sub_vecs, np.reshape(subvec, [1, 12]), axis=0)"
   ]
  },
  {
   "cell_type": "code",
   "execution_count": 267,
   "id": "broke-myrtle",
   "metadata": {},
   "outputs": [
    {
     "name": "stdout",
     "output_type": "stream",
     "text": [
      "            Left-M1       Left-PMd       Left-PMv  Left-S1  Left-SMA  \\\n",
      "0     4.940656e-324  2.124137e-314  6.475817e-319      NaN       0.0   \n",
      "1      0.000000e+00   0.000000e+00   0.000000e+00      0.0       0.0   \n",
      "2      0.000000e+00   0.000000e+00   0.000000e+00      0.0       0.0   \n",
      "3      0.000000e+00   0.000000e+00   0.000000e+00      0.0       0.0   \n",
      "4      0.000000e+00   0.000000e+00   0.000000e+00      0.0       0.0   \n",
      "...             ...            ...            ...      ...       ...   \n",
      "2131   0.000000e+00   0.000000e+00   0.000000e+00      0.0       0.0   \n",
      "2132   0.000000e+00   0.000000e+00   0.000000e+00      0.0       0.0   \n",
      "2133   0.000000e+00   0.000000e+00   0.000000e+00      0.0       0.0   \n",
      "2134   0.000000e+00   0.000000e+00   0.000000e+00      0.0       0.0   \n",
      "2135   0.000000e+00   0.000000e+00   0.000000e+00      0.0       0.0   \n",
      "\n",
      "      Left-preSMA  Right-M1  Right-PMd  Right-PMv  Right-S1  Right-SMA  \\\n",
      "0             0.0       0.0        0.0        0.0       0.0        0.0   \n",
      "1             0.0       0.0        0.0        0.0       0.0        0.0   \n",
      "2             0.0       0.0        0.0        0.0       0.0        0.0   \n",
      "3             0.0       0.0        0.0        0.0       0.0        0.0   \n",
      "4             0.0       0.0        0.0        0.0       0.0        0.0   \n",
      "...           ...       ...        ...        ...       ...        ...   \n",
      "2131          0.0      18.0      435.0     2048.0      59.0      144.0   \n",
      "2132          0.0      18.0      435.0     2048.0      59.0      144.0   \n",
      "2133          0.0      18.0      435.0     2048.0      59.0      144.0   \n",
      "2134          0.0      18.0      435.0     2048.0      59.0      144.0   \n",
      "2135          0.0      18.0      435.0     2048.0      59.0      144.0   \n",
      "\n",
      "      Right-preSMA  \n",
      "0              0.0  \n",
      "1              0.0  \n",
      "2              0.0  \n",
      "3              0.0  \n",
      "4              0.0  \n",
      "...            ...  \n",
      "2131         190.0  \n",
      "2132         190.0  \n",
      "2133         190.0  \n",
      "2134         190.0  \n",
      "2135         190.0  \n",
      "\n",
      "[2136 rows x 12 columns]\n"
     ]
    }
   ],
   "source": [
    "smatt_ll = pd.DataFrame(columns=smatts, data = sub_vecs)\n",
    "print(smatt_ll)"
   ]
  }
 ],
 "metadata": {
  "kernelspec": {
   "display_name": "Python 3",
   "language": "python",
   "name": "python3"
  },
  "language_info": {
   "codemirror_mode": {
    "name": "ipython",
    "version": 3
   },
   "file_extension": ".py",
   "mimetype": "text/x-python",
   "name": "python",
   "nbconvert_exporter": "python",
   "pygments_lexer": "ipython3",
   "version": "3.9.2"
  }
 },
 "nbformat": 4,
 "nbformat_minor": 5
}
