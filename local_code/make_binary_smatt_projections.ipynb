{
 "cells": [
  {
   "cell_type": "code",
   "execution_count": 60,
   "id": "removed-advance",
   "metadata": {},
   "outputs": [],
   "source": [
    "import nibabel as nib\n",
    "import scipy.io as sio\n",
    "import numpy as np\n",
    "import matplotlib.pyplot as plt\n",
    "%matplotlib inline\n",
    "\n",
    "smattdir = '/Users/emilyolafson/GIT/ENIGMA/testfig/smatt_gifti/'"
   ]
  },
  {
   "cell_type": "code",
   "execution_count": 71,
   "id": "imported-gamma",
   "metadata": {},
   "outputs": [],
   "source": [
    "# R_preSMA\n",
    "refimg = nib.load(smattdir + 'R_preSMA.dscalar.nii')\n",
    "data = refimg.get_fdata()\n",
    "imgdata = (data > 0.062).astype(refimg.get_data_dtype())\n",
    "imgnew=nib.cifti2.cifti2.Cifti2Image(imgdata,header=refimg.header)\n",
    "nib.save(imgnew, smattdir + \"R_preSMA_bin.dscalar.nii\")"
   ]
  },
  {
   "cell_type": "code",
   "execution_count": 98,
   "id": "classical-martial",
   "metadata": {},
   "outputs": [],
   "source": [
    "# L_preSMA\n",
    "refimg = nib.load(smattdir + 'L_preSMA.dscalar.nii')\n",
    "data = refimg.get_fdata()\n",
    "imgdata = (data > 0.062).astype(refimg.get_data_dtype())\n",
    "imgnew=nib.cifti2.cifti2.Cifti2Image(imgdata,header=refimg.header)\n",
    "nib.save(imgnew, smattdir + \"L_preSMA_bin.dscalar.nii\")"
   ]
  },
  {
   "cell_type": "code",
   "execution_count": 70,
   "id": "skilled-howard",
   "metadata": {},
   "outputs": [],
   "source": [
    "# R_SMA\n",
    "refimg = nib.load(smattdir + 'R_SMA.dscalar.nii')\n",
    "data = refimg.get_fdata()\n",
    "imgdata = (data > 0.021).astype(refimg.get_data_dtype())\n",
    "imgnew=nib.cifti2.cifti2.Cifti2Image(imgdata,header=refimg.header)\n",
    "nib.save(imgnew, smattdir + \"R_SMA_bin.dscalar.nii\")"
   ]
  },
  {
   "cell_type": "code",
   "execution_count": 97,
   "id": "adaptive-chemical",
   "metadata": {},
   "outputs": [],
   "source": [
    "# L_SMA\n",
    "refimg = nib.load(smattdir + 'L_SMA.dscalar.nii')\n",
    "data = refimg.get_fdata()\n",
    "imgdata = (data > 0.021).astype(refimg.get_data_dtype())\n",
    "imgnew=nib.cifti2.cifti2.Cifti2Image(imgdata,header=refimg.header)\n",
    "nib.save(imgnew, smattdir + \"L_SMA_bin.dscalar.nii\")"
   ]
  },
  {
   "cell_type": "code",
   "execution_count": 69,
   "id": "entire-surgeon",
   "metadata": {},
   "outputs": [],
   "source": [
    "# R_M1\n",
    "refimg = nib.load(smattdir + 'R_M1.dscalar.nii')\n",
    "data = refimg.get_fdata()\n",
    "imgdata = (data > 0.069).astype(refimg.get_data_dtype())\n",
    "imgnew=nib.cifti2.cifti2.Cifti2Image(imgdata,header=refimg.header)\n",
    "nib.save(imgnew, smattdir + \"R_M1_bin.dscalar.nii\")"
   ]
  },
  {
   "cell_type": "code",
   "execution_count": 96,
   "id": "loaded-buffalo",
   "metadata": {},
   "outputs": [],
   "source": [
    "# L_M1\n",
    "refimg = nib.load(smattdir + 'L_M1.dscalar.nii')\n",
    "data = refimg.get_fdata()\n",
    "imgdata = (data > 0.069).astype(refimg.get_data_dtype())\n",
    "imgnew=nib.cifti2.cifti2.Cifti2Image(imgdata,header=refimg.header)\n",
    "nib.save(imgnew, smattdir + \"L_M1_bin.dscalar.nii\")"
   ]
  },
  {
   "cell_type": "code",
   "execution_count": 68,
   "id": "fifteen-aircraft",
   "metadata": {},
   "outputs": [],
   "source": [
    "# R_S1\n",
    "refimg = nib.load(smattdir + 'R_S1.dscalar.nii')\n",
    "data = refimg.get_fdata()\n",
    "imgdata = (data > 0.046).astype(refimg.get_data_dtype())\n",
    "imgnew=nib.cifti2.cifti2.Cifti2Image(imgdata,header=refimg.header)\n",
    "nib.save(imgnew, smattdir + \"R_S1_bin.dscalar.nii\")"
   ]
  },
  {
   "cell_type": "code",
   "execution_count": 95,
   "id": "suited-burst",
   "metadata": {},
   "outputs": [],
   "source": [
    "# L_S1\n",
    "refimg = nib.load(smattdir + 'L_S1.dscalar.nii')\n",
    "data = refimg.get_fdata()\n",
    "imgdata = (data > 0.046).astype(refimg.get_data_dtype())\n",
    "imgnew=nib.cifti2.cifti2.Cifti2Image(imgdata,header=refimg.header)\n",
    "nib.save(imgnew, smattdir + \"L_S1_bin.dscalar.nii\")"
   ]
  },
  {
   "cell_type": "code",
   "execution_count": 67,
   "id": "artistic-processing",
   "metadata": {},
   "outputs": [],
   "source": [
    "# R_PMv\n",
    "refimg = nib.load(smattdir + 'R_PMv.dscalar.nii')\n",
    "data = refimg.get_fdata()\n",
    "imgdata = (data > 0.024).astype(refimg.get_data_dtype())\n",
    "imgnew=nib.cifti2.cifti2.Cifti2Image(imgdata,header=refimg.header)\n",
    "nib.save(imgnew, smattdir + \"R_PMv_bin.dscalar.nii\")"
   ]
  },
  {
   "cell_type": "code",
   "execution_count": 94,
   "id": "appropriate-latest",
   "metadata": {},
   "outputs": [],
   "source": [
    "# L_PMv\n",
    "refimg = nib.load(smattdir + 'L_PMv.dscalar.nii')\n",
    "data = refimg.get_fdata()\n",
    "imgdata = (data > 0.024).astype(refimg.get_data_dtype())\n",
    "imgnew=nib.cifti2.cifti2.Cifti2Image(imgdata,header=refimg.header)\n",
    "nib.save(imgnew, smattdir + \"L_PMv_bin.dscalar.nii\")"
   ]
  },
  {
   "cell_type": "code",
   "execution_count": 66,
   "id": "lined-beijing",
   "metadata": {},
   "outputs": [],
   "source": [
    "# R_PMd\n",
    "refimg = nib.load(smattdir + 'R_PMd.dscalar.nii')\n",
    "data = refimg.get_fdata()\n",
    "imgdata = (data > 0.044).astype(refimg.get_data_dtype())\n",
    "imgnew=nib.cifti2.cifti2.Cifti2Image(imgdata,header=refimg.header)\n",
    "nib.save(imgnew, smattdir + \"R_PMd_bin.dscalar.nii\")"
   ]
  },
  {
   "cell_type": "code",
   "execution_count": 93,
   "id": "positive-despite",
   "metadata": {},
   "outputs": [],
   "source": [
    "# L_PMd\n",
    "refimg = nib.load(smattdir + 'L_PMd.dscalar.nii')\n",
    "data = refimg.get_fdata()\n",
    "imgdata = (data > 0.044).astype(refimg.get_data_dtype())\n",
    "imgnew=nib.cifti2.cifti2.Cifti2Image(imgdata,header=refimg.header)\n",
    "nib.save(imgnew, smattdir + \"L_PMd_bin.dscalar.nii\")"
   ]
  },
  {
   "cell_type": "code",
   "execution_count": 75,
   "id": "beautiful-gathering",
   "metadata": {},
   "outputs": [
    {
     "data": {
      "text/plain": [
       "(1, 91282)"
      ]
     },
     "execution_count": 75,
     "metadata": {},
     "output_type": "execute_result"
    }
   ],
   "source": [
    "data.shape"
   ]
  },
  {
   "cell_type": "code",
   "execution_count": 91,
   "id": "robust-graphics",
   "metadata": {},
   "outputs": [],
   "source": [
    "# How to project the 6-value file of median beta weights onto one surface? \n",
    "\n",
    "# first replace all vertices for each tract w the median beta weight\n",
    "# then make one surface file that's the sum across all tracts?\n",
    "\n",
    "ex_values = [-0.1, -0.0, -0.04, -0.1, -0.2, -0.2]\n",
    "\n",
    "tracts = ['R_M1', 'R_PMd', 'R_PMv', 'R_S1', 'R_SMA', 'R_preSMA']\n",
    "\n",
    "vertexdata = np.zeros(shape = (6,91282))\n",
    "\n",
    "counter = 0\n",
    "for tract in tracts:\n",
    "    refimg =  nib.load(smattdir + '{}_bin.dscalar.nii'.format(tract))\n",
    "    data = refimg.get_fdata()\n",
    "    imgdata = data*ex_values[counter]\n",
    "    imgdata = imgdata.astype(refimg.get_data_dtype())\n",
    "    vertexdata[counter,]=imgdata\n",
    "    counter=counter+1"
   ]
  },
  {
   "cell_type": "code",
   "execution_count": 92,
   "id": "furnished-quilt",
   "metadata": {},
   "outputs": [
    {
     "name": "stdout",
     "output_type": "stream",
     "text": [
      "(1, 91282)\n"
     ]
    }
   ],
   "source": [
    "finalvertex = np.reshape(np.sum(vertexdata, axis=0), [1,91282]).astype(refimg.get_data_dtype())\n",
    "print(finalvertex.shape)\n",
    "imgnew=nib.cifti2.cifti2.Cifti2Image(finalvertex,header=refimg.header)\n",
    "nib.save(imgnew, smattdir + \"finalvertex.dscalar.nii\")"
   ]
  }
 ],
 "metadata": {
  "kernelspec": {
   "display_name": "Python 3",
   "language": "python",
   "name": "python3"
  },
  "language_info": {
   "codemirror_mode": {
    "name": "ipython",
    "version": 3
   },
   "file_extension": ".py",
   "mimetype": "text/x-python",
   "name": "python",
   "nbconvert_exporter": "python",
   "pygments_lexer": "ipython3",
   "version": "3.9.2"
  }
 },
 "nbformat": 4,
 "nbformat_minor": 5
}
