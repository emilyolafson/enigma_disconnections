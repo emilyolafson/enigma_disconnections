{
 "cells": [
  {
   "cell_type": "code",
   "execution_count": 10,
   "metadata": {},
   "outputs": [
    {
     "name": "stdout",
     "output_type": "stream",
     "text": [
      "\n",
      "\n",
      "Loading .csv...\n",
      "/home/ubuntu/enigma/motor_predictions/Behaviour_Information_ALL_April7_2022_sorted_CST_12_ll_slnm.csv\n",
      "\n",
      "Size of dataset before removing subjects without outcome scores: 1068 subjects\n",
      "Size of dataset after removing subjects without outcome scores: 1020 subjects\n",
      "\n",
      "\n",
      "Size of dataset before removing subjects without non-lesion covariates ['AGE', 'SEX', 'DAYS_POST_STROKE']: 1020 subjects\n",
      "Size of dataset after removing subjects without non-lesion covariates: 792 subjects\n",
      "\n",
      "Size of dataset before subsetting for chronic/acute: 791 subjects\n",
      "\n",
      "Selecting acute subjects only. \n",
      "\n",
      "Size of dataset after subsetting for chronic/acute: 329 subjects\n",
      "fs86subj\n",
      "chacovol\n",
      "_ses1_space-MNI152_desc-T1-lesion_mask_MNI\n",
      "Multiple different image file names.\n",
      "_ses1_space-MNI152_desc-T1-lesion_mask_MNI\n",
      "Multiple different image file names.\n",
      "\n",
      "The following subjects are in the .csv file but do not have corresponding ChaCo data: ['sub-r039s001', 'sub-r039s003']\n",
      "\n",
      "(327, 86)\n",
      "Index(['Unnamed: 0', 'BIDS_ID', 'SES', 'SITE', 'AGE', 'SEX',\n",
      "       'DAYS_POST_STROKE', 'CHRONICITY', 'CHRONIC', 'ACUTE',\n",
      "       'LESIONED_HEMISPHERE', 'NORMED_MOTOR', 'NORMED_MOTOR_ACUTE',\n",
      "       'NORMED_MOTOR_CHRONIC', 'FUGL_MEYER_UE_NORM', 'isblank_sex',\n",
      "       'isblank_age', 'isblank_days_post_stroke', 'isblank_lesionedhem',\n",
      "       'isblank_fuglmeyer', 'isblank_chronicity', 'isPresent_chronicity',\n",
      "       'M1_CST', 'PMd_CST', 'PMv_CST', 'S1_CST', 'SMA_CST', 'preSMA_CST',\n",
      "       'L_M1_CST', 'L_PMd_CST', 'L_PMv_CST', 'L_S1_CST', 'L_SMA_CST',\n",
      "       'L_preSMA_CST', 'R_M1_CST', 'R_PMd_CST', 'R_PMv_CST', 'R_S1_CST',\n",
      "       'R_SMA_CST', 'R_preSMA_CST', 'PC1', 'PC2_1', 'PC2_2', 'PC3_1', 'PC3_2',\n",
      "       'Motor score', 'NORMED_MOTOR.1', 'FUGL_MEYER_UE_NORM.1', 'ARAT_NORM',\n",
      "       'WMFT_FAS_NORM', 'NIHSS_NORM', 'MOTRICITY_ARM_A', 'GRIP_NORM_A_TO_NA',\n",
      "       'BARTHEL', 'lesionvol'],\n",
      "      dtype='object')\n"
     ]
    }
   ],
   "source": [
    "import numpy as np\n",
    "import pandas as pd\n",
    "\n",
    "import helper_functions \n",
    "from helper_functions import *\n",
    "from imp import reload\n",
    "import pandas as pd\n",
    "import data_formatting\n",
    "from data_formatting import *\n",
    "reload(helper_functions)\n",
    "reload(data_formatting)\n",
    "\n",
    "import matplotlib.pyplot as plt\n",
    "import seaborn as sns\n",
    "import scipy.stats as stats\n",
    "\n",
    "def round_with_padding(value, round_digits):\n",
    "    return format(round(value,round_digits), \".\"+str(round_digits)+\"f\")\n",
    "\n",
    "csv_path='/home/ubuntu/enigma/motor_predictions/Behaviour_Information_ALL_April7_2022_sorted_CST_12_ll_slnm.csv'\n",
    "nemo_settings='1mm,sdstream'\n",
    "nemo_path='/home/ubuntu/enigma/lesionmasks/'\n",
    "results_path='/home/ubuntu/enigma/results/'\n",
    "analysis_id='analysis_1'\n",
    "workbench_vis=False\n",
    "scenesdir='/home/ubuntu/enigma/motor_predictions/wb_files'\n",
    "hcp_dir='/home/ubuntu/enigma/motor_predictions/wb_files/HCP_S1200_GroupAvg_v1'\n",
    "wbpath='/home/ubuntu/enigma/motor_predictions/wb_files/workbench_ubuntu/bin_linux64'\n",
    "chaco_type='chacovol'\n",
    "atlas='fs86subj'\n",
    "covariates=['AGE','SEX','DAYS_POST_STROKE']\n",
    "boxplots=False\n",
    "lesionload_types='M1,all,all_2h'\n",
    "crossval_types='1'\n",
    "verbose=0\n",
    "nperms=100\n",
    "save_models=True\n",
    "ensembles='none'\n",
    "subid_colname='BIDS_ID'\n",
    "ensemble_atlas='fs86subj'\n",
    "site_colname='SITE'\n",
    "chronicity_colname='CHRONICITY'\n",
    "yvar_colname='NORMED_MOTOR'\n",
    "subset='acute'\n",
    "y_var='normed_motor_scores'\n",
    "model_specified='ridge'\n",
    "override_rerunmodels=False\n",
    "remove_demog=None\n",
    "ll='M1'\n",
    "nemo_settings= ['1mm','sdstream']\n",
    "\n",
    "\n",
    "original_dataset = load_csv(csv_path)\n",
    "return_motor= True\n",
    "\n",
    "[X, Y, C, lesion_load, site,site_idx, lesioned_hem,motor_vars] = create_data_set(csv_path, site_colname, nemo_path,yvar_colname, subid_colname,chronicity_colname,atlas, covariates, verbose, y_var,chaco_type, subset, remove_demog , nemo_settings, ll,return_motor)\n"
   ]
  },
  {
   "cell_type": "code",
   "execution_count": 11,
   "metadata": {},
   "outputs": [
    {
     "data": {
      "text/plain": [
       "43"
      ]
     },
     "execution_count": 11,
     "metadata": {},
     "output_type": "execute_result"
    }
   ],
   "source": [
    "np.count_nonzero((lesioned_hem!=1) & (lesioned_hem!=2))"
   ]
  },
  {
   "cell_type": "code",
   "execution_count": 128,
   "metadata": {},
   "outputs": [],
   "source": [
    "siteID = np.unique(site)\n",
    "fmStrings=[]\n",
    "aratStrings=[]\n",
    "gripStrings=[]\n",
    "nihssStrings=[]\n",
    "wmftStrings=[]\n",
    "barthelStrings=[]\n",
    "motoricStrings=[]\n",
    "nTotal=[]\n",
    "fmsum=0\n",
    "# get mesaures for each site\n",
    "for sites in siteID:\n",
    "    idx = site==sites\n",
    "    motor_site = motor_vars[idx]\n",
    "    nTotal.append(np.count_nonzero(idx))\n",
    "    if pd.Series.equals(motor_site['FUGL_MEYER_UE_NORM'],motor_site['NORMED_MOTOR']):\n",
    "        fmString = \"{}\".format(np.count_nonzero(idx))\n",
    "        fmsum = fmsum+ np.count_nonzero(idx)\n",
    "        fmStrings.append(fmString)\n",
    "        aratString = \"0\"\n",
    "        aratStrings.append(aratString)\n",
    "        barthelString =\"0\"\n",
    "        barthelStrings.append(barthelString)\n",
    "        gripString = \"0\"\n",
    "        gripStrings.append(gripString)\n",
    "        motoricString = \"0\"\n",
    "        motoricStrings.append(motoricString)\n",
    "        nihssString =\"0\"\n",
    "        nihssStrings.append(nihssString)\n",
    "        wmftString =\"0\"\n",
    "        wmftStrings.append(wmftString)\n",
    "        continue\n",
    "    else:\n",
    "        aratString = \"{}\".format(np.count_nonzero(~np.isnan(motor_site['ARAT_NORM'])))\n",
    "        aratStrings.append(aratString)\n",
    "        barthelString =\"{}\".format(np.count_nonzero(~np.isnan(motor_site['BARTHEL'])))\n",
    "        barthelStrings.append(barthelString)\n",
    "        gripString =\"{}\".format(np.count_nonzero(~np.isnan(motor_site['GRIP_NORM_A_TO_NA'])))\n",
    "        gripStrings.append(gripString)\n",
    "        fmString = \"{}\".format(np.count_nonzero((~np.isnan(motor_site['FUGL_MEYER_UE_NORM']))))\n",
    "        fmStrings.append(fmString)\n",
    "        motoricString = \"{}\".format(np.count_nonzero(~np.isnan(motor_site['MOTRICITY_ARM_A'])))\n",
    "        motoricStrings.append(motoricString)\n",
    "        nihssString =\"{}\".format(np.count_nonzero(~np.isnan(motor_site['NIHSS_NORM'])))\n",
    "        nihssStrings.append(nihssString)\n",
    "        wmftString =\"{}\".format(np.count_nonzero(~np.isnan(motor_site['WMFT_FAS_NORM'])))\n",
    "        wmftStrings.append(wmftString)\n",
    "\n",
    "       "
   ]
  },
  {
   "cell_type": "code",
   "execution_count": 115,
   "metadata": {},
   "outputs": [],
   "source": [
    "\n",
    "datatable = pd.DataFrame({'Total N.':nTotal,'Fugl Meyer UE':fmStrings,  'Barthel':barthelStrings, 'NIHSS':nihssStrings, 'ARAT':aratStrings})\n",
    "#print(datatable.to_latex(index=False))\n",
    "\n",
    "datatable.index = site_idx"
   ]
  },
  {
   "cell_type": "code",
   "execution_count": 116,
   "metadata": {},
   "outputs": [
    {
     "name": "stdout",
     "output_type": "stream",
     "text": [
      "\\begin{table}[h]\n",
      "\\centering\n",
      "\\caption{Type of test assessed at each site}\n",
      "\\label{table:5}\n",
      "\\begin{tabular}{lrllll}\n",
      "\\toprule\n",
      " & Total N. & Fugl Meyer UE & Barthel & NIHSS & ARAT \\\\\n",
      "\\midrule\n",
      "r005 & 1 & 1 & 0 & 0 & 0 \\\\\n",
      "r009 & 50 & 0 & 0 & 49 & 0 \\\\\n",
      "r025 & 9 & 0 & 0 & 0 & 0 \\\\\n",
      "r028 & 1 & 1 & 0 & 0 & 0 \\\\\n",
      "r031 & 36 & 36 & 0 & 0 & 0 \\\\\n",
      "r038 & 72 & 0 & 72 & 0 & 0 \\\\\n",
      "r040 & 57 & 0 & 57 & 0 & 0 \\\\\n",
      "r047 & 2 & 2 & 0 & 0 & 0 \\\\\n",
      "r049 & 21 & 0 & 0 & 21 & 0 \\\\\n",
      "r050 & 14 & 0 & 0 & 14 & 0 \\\\\n",
      "r053 & 52 & 0 & 0 & 0 & 0 \\\\\n",
      "r054 & 12 & 0 & 0 & 12 & 12 \\\\\n",
      "\\bottomrule\n",
      "\\end{tabular}\n",
      "\\end{table}\n",
      "\n"
     ]
    }
   ],
   "source": [
    "\n",
    "s = datatable.style\n",
    "print(s.to_latex(\n",
    "    position=\"h\", position_float=\"centering\",\n",
    "    hrules=True, label=\"table:5\", caption=\"Type of test assessed at each site\",\n",
    "    multirow_align=\"t\",multicol_align=\"c\"\n",
    ")  )"
   ]
  }
 ],
 "metadata": {
  "kernelspec": {
   "display_name": "Python 3.8.8 ('base')",
   "language": "python",
   "name": "python3"
  },
  "language_info": {
   "codemirror_mode": {
    "name": "ipython",
    "version": 3
   },
   "file_extension": ".py",
   "mimetype": "text/x-python",
   "name": "python",
   "nbconvert_exporter": "python",
   "pygments_lexer": "ipython3",
   "version": "3.8.8"
  },
  "orig_nbformat": 4,
  "vscode": {
   "interpreter": {
    "hash": "caf1c2fcf97217de91eafa76b907d50f9ea378f5ffbee7f571142d119bb6a771"
   }
  }
 },
 "nbformat": 4,
 "nbformat_minor": 2
}
