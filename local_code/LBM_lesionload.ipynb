{
 "cells": [
  {
   "cell_type": "code",
   "execution_count": 1,
   "metadata": {},
   "outputs": [],
   "source": [
    "%matplotlib inline \n",
    "import numpy as np\n",
    "import pandas as pd\n",
    "import nibabel as nib \n",
    "import os\n",
    "import glob\n",
    "import seaborn as sns\n",
    "import matplotlib.pyplot as plt\n",
    "import scipy.stats as stats\n",
    "# The lesion's intersection with each LNM was also quantified as the sum of voxel intensities from a lesion network map that also appeared within the boundaries of a\n",
    "#  given patient's lesion mask. For the network maps there was no equivalent eigenvalue used in the LBMs. The resulting ‘lesion load’ \n",
    "# values are referred to as structural LNM-LL for the structural LNMs, and functional LNM-LL for the functional LNMs (Fig. 1). We focused on lesion\n",
    "#  load values for the PC maps where possible. For PC maps with positive and negative values, we created two separate lesion load values in order to avoid\n",
    "#  potential problems with summing both positive and negative voxels into a single scor∏e (Bowren et al., 2022)\n",
    "\n",
    "\n",
    "df=pd.read_table('~/GIT/ENIGMA/data/Behaviour_Information_ALL_April7_2022_sorted_CST_12_ll_slnm_zeros.csv', header=0, delimiter=',')\n",
    "sub_left=df['LESIONED_HEMISPHERE']"
   ]
  },
  {
   "cell_type": "code",
   "execution_count": 2,
   "metadata": {},
   "outputs": [],
   "source": [
    "# calculate lesion load for each subject and append to growing table\n",
    "slnm_dir= '/Users/emilyolafson/GIT/ENIGMA/data/sLNM_maps/'\n",
    "lbm_map = nib.load(os.path.join(slnm_dir, 'LBM_map_Bowren.nii.gz')).get_fdata()"
   ]
  },
  {
   "cell_type": "code",
   "execution_count": 4,
   "metadata": {},
   "outputs": [],
   "source": [
    "\n",
    "lesion_folder = '/Users/emilyolafson/GIT/ENIGMA/data/lesionmasks/all_lesionmasks_2009tov6_usingSym_rename/'\n",
    "LBM_all=[]\n",
    "                  \n",
    "for sub in range(0,len(df)):\n",
    "    lesion = nib.load(lesion_folder+  df.loc[df.index[sub],'BIDS_ID']+'.nii.gz').get_fdata()\n",
    "\n",
    "    LBM=np.sum(lesion*lbm_map)\n",
    "\n",
    "    LBM_all=np.append(LBM_all, LBM)"
   ]
  },
  {
   "cell_type": "code",
   "execution_count": 5,
   "metadata": {},
   "outputs": [],
   "source": [
    "\n",
    "LBM_all_vals = pd.DataFrame(columns=['LBM'], data = LBM_all)\n",
    "\n",
    "df=pd.concat((df,LBM_all_vals),axis=1)\n",
    "\n",
    "df.to_csv('~/GIT/ENIGMA/data/Behaviour_Information_ALL_April7_2022_sorted_CST_12_ll_slnm_LBM.csv')"
   ]
  }
 ],
 "metadata": {
  "kernelspec": {
   "display_name": "Python 3.9.2 ('myenv')",
   "language": "python",
   "name": "python3"
  },
  "language_info": {
   "codemirror_mode": {
    "name": "ipython",
    "version": 3
   },
   "file_extension": ".py",
   "mimetype": "text/x-python",
   "name": "python",
   "nbconvert_exporter": "python",
   "pygments_lexer": "ipython3",
   "version": "3.9.2"
  },
  "orig_nbformat": 4,
  "vscode": {
   "interpreter": {
    "hash": "43d17ee6803eb3ad2d3e1d5dbc5a33b5df735f96b5206a5a478194b252558b80"
   }
  }
 },
 "nbformat": 4,
 "nbformat_minor": 2
}
