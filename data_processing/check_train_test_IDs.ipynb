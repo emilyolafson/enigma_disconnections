{
 "cells": [
  {
   "cell_type": "code",
   "execution_count": 6,
   "metadata": {},
   "outputs": [
    {
     "name": "stdout",
     "output_type": "stream",
     "text": [
      "set()\n"
     ]
    }
   ],
   "source": [
    "import numpy as np\n",
    "# sanity check: no test subjects in the training set!\n",
    "\n",
    "train = np.load('/home/ubuntu/enigma/results/analysis_1/shen268_normed_motor_scores_chacovol_acutechronic_ridge_crossval1_perm0_train_IDs.npy', allow_pickle=True)\n",
    "test  = np.load('/home/ubuntu/enigma/results/analysis_1/shen268_normed_motor_scores_chacovol_acutechronic_ridge_crossval1_perm0_test_IDs.npy', allow_pickle=True)\n",
    "\n",
    "print(set(train) & set(test))"
   ]
  }
 ],
 "metadata": {
  "kernelspec": {
   "display_name": "Python 3.8.8 ('base')",
   "language": "python",
   "name": "python3"
  },
  "language_info": {
   "codemirror_mode": {
    "name": "ipython",
    "version": 3
   },
   "file_extension": ".py",
   "mimetype": "text/x-python",
   "name": "python",
   "nbconvert_exporter": "python",
   "pygments_lexer": "ipython3",
   "version": "3.8.8"
  },
  "orig_nbformat": 4,
  "vscode": {
   "interpreter": {
    "hash": "caf1c2fcf97217de91eafa76b907d50f9ea378f5ffbee7f571142d119bb6a771"
   }
  }
 },
 "nbformat": 4,
 "nbformat_minor": 2
}
