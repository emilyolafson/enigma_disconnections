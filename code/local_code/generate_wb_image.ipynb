{
 "cells": [
  {
   "cell_type": "code",
   "execution_count": 1,
   "id": "convertible-electronics",
   "metadata": {},
   "outputs": [],
   "source": [
    "# generate surface file and subcortical file\n",
    "# the input roivalue is the 392 vector saved in a txt file, e.g. roivalue.txt\n",
    "\n",
    "import numpy as np\n",
    "import os \n",
    "import nibabel as nib\n",
    "import nibabel.processing\n",
    "\n",
    "\n",
    "import os"
   ]
  },
  {
   "cell_type": "code",
   "execution_count": 16,
   "id": "sized-flight",
   "metadata": {},
   "outputs": [],
   "source": [
    "os.chdir('/Users/emilyolafson/GIT/workbench')\n",
    "\n",
    "atlas_dir = '/Users/emilyolafson/GIT/atlas_files/'\n",
    "image_dir = '/Users/emilyolafson/GIT/ENIGMA/testfig/'\n",
    "txt_dir = '/Users/emilyolagson/GIT/ENIGMA/testfig/'\n"
   ]
  },
  {
   "cell_type": "code",
   "execution_count": 24,
   "id": "religious-declaration",
   "metadata": {},
   "outputs": [],
   "source": [
    "atlas = nib.load(atlas_dir + 'fs86_dil1_allsubj_mode.nii.gz').get_fdata()\n",
    "nodes = np.unique(atlas)\n",
    "nodes = np.delete(nodes,0)\n",
    "data = np.zeros(atlas.shape, dtype=np.float32)\n",
    "scalar = np.genfromtxt(txt_dir + 'avgHaufe_fs86_regionalSDC_correlation_chronic copy.txt', dtype = \"float32\", delimiter = ',', usecols = 0)\n"
   ]
  },
  {
   "cell_type": "code",
   "execution_count": 25,
   "id": "naked-civilization",
   "metadata": {},
   "outputs": [],
   "source": [
    "for i,n in enumerate(nodes):\n",
    "    data[atlas == n] = scalar[i]\n",
    "    \n",
    "sample_img = nib.load(atlas_dir + 'fs86_dil1_allsubj_mode.nii.gz')\n",
    "save_file = image_dir + '_metrics.nii.gz' "
   ]
  },
  {
   "cell_type": "code",
   "execution_count": 26,
   "id": "regional-attribute",
   "metadata": {},
   "outputs": [],
   "source": [
    "save_img = nib.Nifti1Image(data, sample_img.affine, sample_img.header)\n",
    "save_img.set_data_dtype(data.dtype)\n",
    "nib.save(save_img, save_file) \n"
   ]
  },
  {
   "cell_type": "code",
   "execution_count": 30,
   "id": "public-window",
   "metadata": {},
   "outputs": [],
   "source": [
    "filename = save_file\n",
    "surf_prefix = filename.strip(\"fs86_dil1_allsubj_mode.nii.gz\")\n",
    "for hemi in ['L', 'R']: \n",
    "    os.chdir('/Users/emilyolafson/GIT/workbench/bin_macosx64')\n",
    "    cmd = './wb_command -volume-to-surface-mapping '+  filename + ' /Users/emilyolafson/GIT/ENIGMA/testfig/HCP_S1200_GroupAvg_v1/S1200.' + hemi + '.midthickness_MSMAll.32k_fs_LR.surf.gii '+ surf_prefix + hemi + '.shape.gii -enclosing'\n",
    "    os.system(cmd)\n",
    "    cmd = './wb_command -metric-dilate ' + surf_prefix + hemi + '.shape.gii' + ' /Users/emilyolafson/GIT/ENIGMA/testfig/HCP_S1200_GroupAvg_v1/S1200.' + hemi + '.midthickness_MSMAll.32k_fs_LR.surf.gii 20 ' + surf_prefix + hemi + '_filled.shape.gii -nearest'\n",
    "    os.system(cmd)\n",
    "\n",
    "#os.remove(save_file)\n"
   ]
  },
  {
   "cell_type": "code",
   "execution_count": 31,
   "id": "agricultural-prefix",
   "metadata": {},
   "outputs": [
    {
     "data": {
      "text/plain": [
       "'./wb_command -metric-dilate /Users/emilyolafson/GIT/ENIGMA/testfig/_metricR.shape.gii /Users/emilyolafson/GIT/ENIGMA/testfig/HCP_S1200_GroupAvg_v1/S1200.R.midthickness_MSMAll.32k_fs_LR.surf.gii 20 /Users/emilyolafson/GIT/ENIGMA/testfig/_metricR_filled.shape.gii -nearest'"
      ]
     },
     "execution_count": 31,
     "metadata": {},
     "output_type": "execute_result"
    }
   ],
   "source": [
    "cmd"
   ]
  },
  {
   "cell_type": "code",
   "execution_count": 14,
   "id": "beginning-wilson",
   "metadata": {},
   "outputs": [],
   "source": [
    "os.chdir('/Users/emilyolafson/GIT/workbench')\n",
    "\n",
    "atlas_dir = '/Users/emilyolafson/GIT/atlas_files/'\n",
    "image_dir = '/Users/emilyolafson/GIT/ENIGMA/testfig/'\n",
    "txt_dir = '/Users/emilyolafson/GIT/ENIGMA/testfig/'\n",
    "\n",
    "roivol = nib.load(atlas_dir + \"fs86_dil1_allsubj_mode.nii.gz\")\n",
    "Vroi = roivol.get_fdata()\n",
    "Vnew = np.zeros(Vroi.shape)\n",
    "roidata = np.genfromtxt(txt_dir + 'avgHaufe_fs86_regionalSDC_correlation_chronic copy.txt', dtype = \"float32\", delimiter = ',', usecols = 0)\n",
    "\n",
    "for i,v in enumerate(np.unique(Vroi[Vroi>0])):\n",
    "    Vnew[Vroi == v] = roidata[i]\n",
    "imgnew = nib.Nifti1Image(Vnew, affine = roivol.affine, header = roivol.header)\n",
    "nib.save(imgnew, \"newdata.nii.gz\")\n",
    "\n",
    "\n",
    "newdata = nib.load(\"newdata.nii.gz\")\n",
    "cc400 = nib.load(atlas_dir + \"fs86_dil1_allsubj_mode.nii.gz\")\n",
    "atlas2 = nib.load(atlas_dir + \"fs86_dil1_allsubj_mode_subcort.nii.gz\")\n",
    "atlas1=nibabel.processing.resample_from_to(atlas2, cc400, order=0)\n",
    "V400 = cc400.get_fdata()\n",
    "V1 = atlas1.get_fdata()\n",
    "subcortvals = np.unique(V400[(V400>0) * (V1>0)])\n",
    "V400_subcort = V400 * np.isin(V400,subcortvals)\n",
    "cc400_subcort = nib.Nifti1Image(V400_subcort, affine = cc400.affine, header = cc400.header)\n",
    "#nib.save(cc400_subcort,\"cc400_new1mm_subcort.nii.gz\")\n",
    "Vnew = newdata.get_fdata()*(V400_subcort>0)\n",
    "newdata_subcort=nib.Nifti1Image(Vnew, affine=cc400.affine, header=cc400.header)\n",
    "nib.save(newdata_subcort, image_dir + \"_subcort.nii.gz\")\n",
    "os.remove(\"newdata.nii.gz\")"
   ]
  },
  {
   "cell_type": "code",
   "execution_count": null,
   "id": "gothic-display",
   "metadata": {},
   "outputs": [],
   "source": [
    "%matplotlib inline\n",
    "import matplotlib.pyplot as plt\n",
    "\n",
    "scalar = np.genfromtxt('avgHaufe_fs86_regionalSDC_correlation_chronic copy.txt', dtype = \"float32\", delimiter = ',', usecols = 0)\n",
    "atlas = nib.load('cc400_roi_atlas.nii.gz').get_fdata()\n",
    "nodes = np.unique(atlas)\n",
    "nodes = np.delete(nodes,0)\n",
    "data = np.zeros(atlas.shape)\n",
    "\n",
    "for i,n in enumerate(nodes):\n",
    "    data[atlas == n] = scalar[i]\n",
    "sample_img = nib.load('fs86_dil1_allsubj_mode.nii.gz')\n",
    "save_file = 'test_metrics.nii.gz' ## Name of file you want to save the metrics in \n",
    "save_img = nib.Nifti1Image(data, sample_img.affine, sample_img.header)\n",
    "nib.save(save_img, save_file)  \n",
    "curr_dir = os.getcwd()\n",
    "save_file = curr_dir + '/cc400_roi_atlas_metrics.nii.gz'\n",
    "surf_prefix = save_file.strip(\".nii.gz\")\n",
    "for hemi in ['L', 'R']: \n",
    "    os.chdir('/home/yournetid/workbench/bin_linux64')\n",
    "    cmd = './wb_command -volume-to-surface-mapping '+  save_file + ' /home/yournetid/workbench/HCP_S1200_GroupAvg_v1/S1200.' + hemi + '.midthickness_MSMAll.32k_fs_LR.surf.gii '+ surf_prefix + hemi + '.shape.gii -trilinear ;'\n",
    "    os.system(cmd)\n",
    "os.chdir(curr_dir)\n"
   ]
  },
  {
   "cell_type": "code",
   "execution_count": null,
   "id": "consistent-visitor",
   "metadata": {},
   "outputs": [],
   "source": [
    "for hemi in ['L', 'R']: \n",
    "    os.chdir('/Users/emilyolafson/GIT/workbench/bin_macosx64')\n",
    "    cmd = './wb_command -volume-to-surface-mapping '+  filename + '/Users/emilyolafson/GIT/ENIGMA/testfig/HCP_S1200_GroupAvg_v1/S1200.' + hemi + '.midthickness_MSMAll.32k_fs_LR.surf.gii '+ surf_prefix + hemi + '.shape.gii -enclosing'\n",
    "    os.system(cmd)\n",
    "    cmd = './wb_command -metric-dilate ' + surf_prefix + hemi + '.shape.gii' + ' /Users/emilyolafson/GIT/ENIGMA/testfig/HCP_S1200_GroupAvg_v1/S1200.' + hemi + '.midthickness_MSMAll.32k_fs_LR.surf.gii 20 ' + surf_prefix + hemi + '_filled.shape.gii -nearest'\n",
    "    os.system(cmd)\n",
    "    \n"
   ]
  },
  {
   "cell_type": "code",
   "execution_count": null,
   "id": "brief-neighborhood",
   "metadata": {},
   "outputs": [],
   "source": []
  }
 ],
 "metadata": {
  "kernelspec": {
   "display_name": "Python 3",
   "language": "python",
   "name": "python3"
  },
  "language_info": {
   "codemirror_mode": {
    "name": "ipython",
    "version": 3
   },
   "file_extension": ".py",
   "mimetype": "text/x-python",
   "name": "python",
   "nbconvert_exporter": "python",
   "pygments_lexer": "ipython3",
   "version": "3.9.2"
  }
 },
 "nbformat": 4,
 "nbformat_minor": 5
}
