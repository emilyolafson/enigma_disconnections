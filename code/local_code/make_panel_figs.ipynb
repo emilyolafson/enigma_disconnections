{
 "cells": [
  {
   "cell_type": "code",
   "execution_count": 110,
   "id": "related-marker",
   "metadata": {},
   "outputs": [],
   "source": [
    "\"\"\"\n",
    "based on:\n",
    "https://stackoverflow.com/a/451580/6631639\n",
    "https://kanoki.org/2017/07/12/merge-images-with-python/\n",
    "https://stackoverflow.com/a/16377244/6631639\n",
    "https://stackoverflow.com/a/41887497/6631639\n",
    "\n",
    "Code by: https://gigabaseorgigabyte.wordpress.com/2017/11/08/resizing-and-combining-multiple-png-images/\n",
    "\"\"\"\n",
    "\n",
    "import numpy as np\n",
    "from PIL import Image, ImageFont, ImageDraw\n",
    "import os\n",
    "\n",
    "def make_black_white(picture):\n",
    "    # Get the size of the image\n",
    "    width, height = picture.size\n",
    "\n",
    "    # Process every pixel\n",
    "    for x in range(0,width):\n",
    "        for y in range(0,height):\n",
    "            current_color = picture.getpixel((x,y))\n",
    "            if current_color ==(0,0,0):\n",
    "                picture.putpixel( (x,y), (255,255,255))\n",
    "\n",
    "    return picture\n",
    "\n",
    "def change_height_proportionally(img, width):\n",
    "    \"\"\"Change height of image proportional to given width.\"\"\"\n",
    "    wpercent = width / img.size[0]\n",
    "    proportional_height = int(img.size[1] * wpercent)\n",
    "    return img.resize((width, proportional_height), Image.ANTIALIAS)\n",
    "\n",
    "\n",
    "def change_width_proportionally(img, height):\n",
    "    \"\"\"Change width of image proportional to given height.\"\"\"\n",
    "    hpercent = height / img.size[1]\n",
    "    proportional_width = int(img.size[0] * hpercent)\n",
    "    return img.resize((proportional_width, height), Image.ANTIALIAS)\n",
    "\n",
    "\n",
    "def make_same_width(image_list):\n",
    "    \"\"\"Make all images in input list the same width.\"\"\"\n",
    "    imgs = [i for i in image_list]\n",
    "    min_width = min([i.size[0] for i in imgs])\n",
    "    resized = [change_height_proportionally(img, min_width) for img in imgs]\n",
    "    return [np.asarray(i) for i in resized]\n",
    "\n",
    "\n",
    "def make_same_height(image_list):\n",
    "    \"\"\"Make all images in input list the same height.\"\"\"\n",
    "    imgs = [i for i in image_list]\n",
    "    min_height = min([i.size[1] for i in imgs])\n",
    "    resized = [change_width_proportionally(img, min_height) for img in imgs]\n",
    "    return [np.asarray(i) for i in resized]\n",
    "\n",
    "\n",
    "def add_text(img):\n",
    "    \"\"\"Add text annotation to hardcoded locations.\"\"\"\n",
    "    font = ImageFont.truetype(\n",
    "        \"/usr/share/fonts/truetype/freefont/FreeMonoBold.ttf\",\n",
    "        size=24,\n",
    "        encoding=\"unic\")\n",
    "    draw = ImageDraw.Draw(img)\n",
    "    draw.text((30, 30), \"A\", (0, 0, 0), font=font)\n",
    "    draw.text((30, 490), \"B\", (0, 0, 0), font=font)\n",
    "    draw.text((30, 950), \"C\", (0, 0, 0), font=font)\n",
    "    draw.text((30, 1430), \"D\", (0, 0, 0), font=font)\n",
    "    draw.text((510, 30), \"E\", (0, 0, 0), font=font)\n",
    "    draw.text((510, 950), \"F\", (0, 0, 0), font=font)\n",
    "\n"
   ]
  },
  {
   "cell_type": "code",
   "execution_count": 182,
   "id": "prospective-muslim",
   "metadata": {},
   "outputs": [],
   "source": [
    "# boxplots\n",
    "image2 = Image.open('/Users/emilyolafson/GIT/ENIGMA-manuscript/figures/analysis_10_boxplots_correlations.png').convert('RGB')\n",
    "image3 = Image.open('/Users/emilyolafson/GIT/ENIGMA-manuscript/figures/analysis_10_boxplots_rsquared.png').convert('RGB')\n",
    "boxplots = Image.fromarray(np.hstack(make_same_height([image2, image3])))\n",
    "\n",
    "whitefiller=Image.open('/Users/emilyolafson/GIT/ENIGMA-manuscript/figures/whitehoriz.png')\n",
    "\n",
    "\n",
    "# shen268\n",
    "image0 = Image.open('/Users/emilyolafson/GIT/ENIGMA-manuscript/figures/shen268_normed_motor_scores_chacovol_chronic_ridge_crossval1_meanfeatureweight_allperms_50_rowsurfaces_fig.png')\n",
    "image01 = Image.open('/Users/emilyolafson/GIT/ENIGMA-manuscript/figures/shen268_normed_motor_scores_chacovol_chronic_ridge_crossval1_meanfeatureweight_allperms_50_subcortical_fig.png')\n",
    "colorbar=Image.open('/Users/emilyolafson/GIT/ENIGMA-manuscript/figures/colorbar.png')\n",
    "\n",
    "shen268 = Image.fromarray(np.vstack(make_same_width([image0,colorbar,image01])))\n",
    "\n",
    "\n",
    "# fs86\n",
    "image0 = Image.open('/Users/emilyolafson/GIT/ENIGMA-manuscript/figures/fs86subj_normed_motor_scores_chacovol_chronic_ridge_crossval1_meanfeatureweight_allperms_50_rowsurfaces_fig.png')\n",
    "image01 = Image.open('/Users/emilyolafson/GIT/ENIGMA-manuscript/figures/fs86subj_normed_motor_scores_chacovol_chronic_ridge_crossval1_meanfeatureweight_allperms_50_subcortical_fig.png')\n",
    "colorbar=Image.open('/Users/emilyolafson/GIT/ENIGMA-manuscript/figures/colorbar.png')\n",
    "\n",
    "fs86 = Image.fromarray(np.vstack(make_same_width([image0,colorbar,image01])))\n",
    "\n",
    "bigarray = make_same_width([boxplots, shen268, fs86, whitefiller])\n",
    "\n",
    "boxplots = bigarray[0]\n",
    "shen268 = bigarray[1]\n",
    "fs86 = bigarray[2]\n",
    "whitespace = bigarray[3]\n",
    "\n",
    "img =Image.fromarray(np.vstack([whitespace, fs86,whitespace, shen268,whitespace,boxplots]))\n",
    "fontsize=50\n",
    "font = ImageFont.truetype(\"/Library/Fonts/Arial.ttf\", fontsize)\n",
    "\n",
    "draw = ImageDraw.Draw(img)\n",
    "draw.text((450, 0), \"FreeSurfer 86-region atlas\", (0, 0, 0), font=ImageFont.truetype(\"/Library/Fonts/Arial.ttf\", 30))\n",
    "draw.text((10, 0+50), \"A\", (255, 255, 255), font=font)\n",
    "\n",
    "draw.text((460, 620), \"Shen 268-region atlas\", (0, 0, 0), font=ImageFont.truetype(\"/Library/Fonts/Arial.ttf\", 30))\n",
    "draw.text((10, 665), \"B\", (255, 255, 255), font=font)\n",
    "\n",
    "draw.text((0, 1250), \"C\", (0, 0, 0), font=font)\n",
    "draw.text((690, 1250), \"D\", (0, 0, 0), font=font)\n",
    "\n",
    "\n",
    "img.save('/Users/emilyolafson/GIT/ENIGMA-manuscript/figures/Analysis1.png')\n"
   ]
  },
  {
   "cell_type": "code",
   "execution_count": 123,
   "id": "republican-demographic",
   "metadata": {},
   "outputs": [
    {
     "data": {
      "text/plain": [
       "(100, 1300, 3)"
      ]
     },
     "execution_count": 123,
     "metadata": {},
     "output_type": "execute_result"
    }
   ],
   "source": [
    "np.zeros(shape=(100,arrayz[0].shape[1],3)).shape"
   ]
  },
  {
   "cell_type": "code",
   "execution_count": 198,
   "id": "confident-piece",
   "metadata": {},
   "outputs": [
    {
     "name": "stdout",
     "output_type": "stream",
     "text": [
      "(0.8666666666666667, 0.20392156862745098, 0.19607843137254902)\n"
     ]
    }
   ],
   "source": [
    "import seaborn as sns\n",
    "colors = sns.color_palette('Blues')\n",
    "\n",
    "\n",
    "tmp =(221/255, 52/255, 50/255)\n",
    "print(tmp)"
   ]
  },
  {
   "cell_type": "code",
   "execution_count": null,
   "id": "technical-holocaust",
   "metadata": {},
   "outputs": [],
   "source": [
    "\n",
    "\n",
    "combined = Image.fromarray(np.hstack(make_same_height([\"left.png\", \"right.png\"])))\n",
    "\n",
    "add_text(combined)\n",
    "\n",
    "combined.save('Combined_images.png', dpi=combined.size)\n",
    "\n",
    "\n",
    "[os.remove(f) for f in [\"left.png\", \"right.png\"]]\n"
   ]
  }
 ],
 "metadata": {
  "kernelspec": {
   "display_name": "Python 3",
   "language": "python",
   "name": "python3"
  },
  "language_info": {
   "codemirror_mode": {
    "name": "ipython",
    "version": 3
   },
   "file_extension": ".py",
   "mimetype": "text/x-python",
   "name": "python",
   "nbconvert_exporter": "python",
   "pygments_lexer": "ipython3",
   "version": "3.9.2"
  }
 },
 "nbformat": 4,
 "nbformat_minor": 5
}
