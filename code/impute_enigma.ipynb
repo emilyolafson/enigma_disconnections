{
 "metadata": {
  "language_info": {
   "codemirror_mode": {
    "name": "ipython",
    "version": 3
   },
   "file_extension": ".py",
   "mimetype": "text/x-python",
   "name": "python",
   "nbconvert_exporter": "python",
   "pygments_lexer": "ipython3",
   "version": "3.9.2"
  },
  "orig_nbformat": 2,
  "kernelspec": {
   "name": "python392jvsc74a57bd04c389eb2e1a1b7a8de88dd6449767166b9655fe88096374a95e12ebef54b7ae0",
   "display_name": "Python 3.9.2 64-bit ('myenv': conda)"
  }
 },
 "nbformat": 4,
 "nbformat_minor": 2,
 "cells": [
  {
   "cell_type": "code",
   "execution_count": 33,
   "metadata": {},
   "outputs": [],
   "source": [
    "import numpy as np\n",
    "import pandas as pd\n",
    "from sklearn.experimental import enable_iterative_imputer\n",
    "from sklearn.impute import IterativeImputer\n"
   ]
  },
  {
   "cell_type": "code",
   "execution_count": 42,
   "metadata": {},
   "outputs": [
    {
     "output_type": "stream",
     "name": "stdout",
     "text": [
      "[IterativeImputer] Completing matrix with shape (515, 4)\n[IterativeImputer] Ending imputation round 1/10, elapsed time 0.00\n[IterativeImputer] Change: 0.6926673017574103, scaled tolerance: 10.806000000000001 \n[IterativeImputer] Early stopping criterion reached.\n[IterativeImputer] Completing matrix with shape (515, 4)\n[IterativeImputer] Ending imputation round 1/1, elapsed time 0.00\n"
     ]
    }
   ],
   "source": [
    "# load data\n",
    "filename='ENIGMA_behaviour_demog_format.csv'\n",
    "df = pd.read_csv(filename, sep=',')\n",
    "df=df.drop('SES',1)\n",
    "df=df.drop('FUGL_MEYER_UE_NORM',1)\n",
    "df=df.drop('ARAT_NORM',1)\n",
    "df=df.drop('WMFT_FAS_NORM',1)\n",
    "df=df.drop('isblank_age',1)\n",
    "df=df.drop('isblank_sex',1)\n",
    "df=df.drop('isblank_days_post_stroke',1)\n",
    "df=df.drop('isblank_lesionedhem',1)\n",
    "df=df.drop('isblank_fuglmeyer',1)\n",
    "df=df.drop('BIDS_ID',1)\n",
    "df=df.drop('site',1)\n",
    "\n",
    "X=df.drop('NORMED_MOTOR', 1)\n",
    "Y=df['NORMED_MOTOR']\n",
    "\n",
    "#X.corr()\n",
    "#imp = IterativeImputer(missing_values=None, )\n",
    "imp = IterativeImputer(missing_values=np.nan, initial_strategy='mean',imputation_order = 'ascending', verbose=2,random_state=24601)\n",
    "imp.fit(X)\n",
    "X_imputed=imp.transform(X)"
   ]
  },
  {
   "cell_type": "code",
   "execution_count": null,
   "metadata": {},
   "outputs": [],
   "source": []
  }
 ]
}