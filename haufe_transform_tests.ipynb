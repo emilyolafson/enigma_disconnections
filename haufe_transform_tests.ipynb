{
 "cells": [
  {
   "cell_type": "code",
   "execution_count": 192,
   "id": "stopped-labor",
   "metadata": {},
   "outputs": [],
   "source": [
    "import numpy as np\n",
    "import pandas as pd\n",
    "from sklearn.linear_model import Ridge\n",
    "import matplotlib.pyplot as plt\n",
    "\n",
    "from sklearn.model_selection import train_test_split\n",
    "%matplotlib inline\n",
    "\n",
    "\n",
    "# code to show how haufe-transformed feature weights are related to data covariance"
   ]
  },
  {
   "cell_type": "code",
   "execution_count": 193,
   "id": "protected-denmark",
   "metadata": {},
   "outputs": [],
   "source": [
    "def load_csv(csv_path):\n",
    "    df = pd.read_csv(csv_path, header =0)\n",
    "    return df"
   ]
  },
  {
   "cell_type": "code",
   "execution_count": 194,
   "id": "concerned-breakfast",
   "metadata": {},
   "outputs": [],
   "source": [
    "df = load_csv('~/GIT/archive/data.csv')\n",
    "\n",
    "llvars = ['M1_CST', 'PMd_CST', 'PMv_CST','S1_CST','SMA_CST','preSMA_CST']\n",
    "\n",
    "motor = df['NORMED_MOTOR']\n",
    "lesion_load = df[llvars]\n"
   ]
  },
  {
   "cell_type": "code",
   "execution_count": 145,
   "id": "wired-science",
   "metadata": {},
   "outputs": [
    {
     "data": {
      "text/html": [
       "<div>\n",
       "<style scoped>\n",
       "    .dataframe tbody tr th:only-of-type {\n",
       "        vertical-align: middle;\n",
       "    }\n",
       "\n",
       "    .dataframe tbody tr th {\n",
       "        vertical-align: top;\n",
       "    }\n",
       "\n",
       "    .dataframe thead th {\n",
       "        text-align: right;\n",
       "    }\n",
       "</style>\n",
       "<table border=\"1\" class=\"dataframe\">\n",
       "  <thead>\n",
       "    <tr style=\"text-align: right;\">\n",
       "      <th></th>\n",
       "      <th>M1_CST</th>\n",
       "      <th>PMd_CST</th>\n",
       "      <th>PMv_CST</th>\n",
       "      <th>S1_CST</th>\n",
       "      <th>SMA_CST</th>\n",
       "      <th>preSMA_CST</th>\n",
       "    </tr>\n",
       "  </thead>\n",
       "  <tbody>\n",
       "    <tr>\n",
       "      <th>0</th>\n",
       "      <td>0.002082</td>\n",
       "      <td>0.102837</td>\n",
       "      <td>0.541656</td>\n",
       "      <td>0.010315</td>\n",
       "      <td>0.028453</td>\n",
       "      <td>0.052155</td>\n",
       "    </tr>\n",
       "    <tr>\n",
       "      <th>1</th>\n",
       "      <td>0.000925</td>\n",
       "      <td>0.014657</td>\n",
       "      <td>0.048664</td>\n",
       "      <td>0.000000</td>\n",
       "      <td>0.014622</td>\n",
       "      <td>0.009607</td>\n",
       "    </tr>\n",
       "    <tr>\n",
       "      <th>2</th>\n",
       "      <td>0.004280</td>\n",
       "      <td>0.039716</td>\n",
       "      <td>0.022745</td>\n",
       "      <td>0.000175</td>\n",
       "      <td>0.051176</td>\n",
       "      <td>0.076585</td>\n",
       "    </tr>\n",
       "    <tr>\n",
       "      <th>3</th>\n",
       "      <td>0.306340</td>\n",
       "      <td>0.400946</td>\n",
       "      <td>0.000000</td>\n",
       "      <td>0.034965</td>\n",
       "      <td>0.413357</td>\n",
       "      <td>0.446884</td>\n",
       "    </tr>\n",
       "    <tr>\n",
       "      <th>4</th>\n",
       "      <td>0.226516</td>\n",
       "      <td>0.161466</td>\n",
       "      <td>0.166623</td>\n",
       "      <td>0.234091</td>\n",
       "      <td>0.139103</td>\n",
       "      <td>0.167444</td>\n",
       "    </tr>\n",
       "    <tr>\n",
       "      <th>...</th>\n",
       "      <td>...</td>\n",
       "      <td>...</td>\n",
       "      <td>...</td>\n",
       "      <td>...</td>\n",
       "      <td>...</td>\n",
       "      <td>...</td>\n",
       "    </tr>\n",
       "    <tr>\n",
       "      <th>1015</th>\n",
       "      <td>0.035400</td>\n",
       "      <td>0.012057</td>\n",
       "      <td>0.038350</td>\n",
       "      <td>0.018881</td>\n",
       "      <td>0.030626</td>\n",
       "      <td>0.000000</td>\n",
       "    </tr>\n",
       "    <tr>\n",
       "      <th>1016</th>\n",
       "      <td>0.044655</td>\n",
       "      <td>0.074941</td>\n",
       "      <td>0.050780</td>\n",
       "      <td>0.055070</td>\n",
       "      <td>0.068168</td>\n",
       "      <td>0.073017</td>\n",
       "    </tr>\n",
       "    <tr>\n",
       "      <th>1017</th>\n",
       "      <td>0.206617</td>\n",
       "      <td>0.142553</td>\n",
       "      <td>0.588204</td>\n",
       "      <td>0.321678</td>\n",
       "      <td>0.114207</td>\n",
       "      <td>0.103761</td>\n",
       "    </tr>\n",
       "    <tr>\n",
       "      <th>1018</th>\n",
       "      <td>0.000000</td>\n",
       "      <td>0.000000</td>\n",
       "      <td>0.000000</td>\n",
       "      <td>0.011713</td>\n",
       "      <td>0.000000</td>\n",
       "      <td>0.000000</td>\n",
       "    </tr>\n",
       "    <tr>\n",
       "      <th>1019</th>\n",
       "      <td>0.006478</td>\n",
       "      <td>0.009929</td>\n",
       "      <td>0.008067</td>\n",
       "      <td>0.007605</td>\n",
       "      <td>0.009978</td>\n",
       "      <td>0.009882</td>\n",
       "    </tr>\n",
       "  </tbody>\n",
       "</table>\n",
       "<p>1020 rows × 6 columns</p>\n",
       "</div>"
      ],
      "text/plain": [
       "        M1_CST   PMd_CST   PMv_CST    S1_CST   SMA_CST  preSMA_CST\n",
       "0     0.002082  0.102837  0.541656  0.010315  0.028453    0.052155\n",
       "1     0.000925  0.014657  0.048664  0.000000  0.014622    0.009607\n",
       "2     0.004280  0.039716  0.022745  0.000175  0.051176    0.076585\n",
       "3     0.306340  0.400946  0.000000  0.034965  0.413357    0.446884\n",
       "4     0.226516  0.161466  0.166623  0.234091  0.139103    0.167444\n",
       "...        ...       ...       ...       ...       ...         ...\n",
       "1015  0.035400  0.012057  0.038350  0.018881  0.030626    0.000000\n",
       "1016  0.044655  0.074941  0.050780  0.055070  0.068168    0.073017\n",
       "1017  0.206617  0.142553  0.588204  0.321678  0.114207    0.103761\n",
       "1018  0.000000  0.000000  0.000000  0.011713  0.000000    0.000000\n",
       "1019  0.006478  0.009929  0.008067  0.007605  0.009978    0.009882\n",
       "\n",
       "[1020 rows x 6 columns]"
      ]
     },
     "execution_count": 145,
     "metadata": {},
     "output_type": "execute_result"
    }
   ],
   "source": [
    "lesion_load"
   ]
  },
  {
   "cell_type": "code",
   "execution_count": 195,
   "id": "fancy-burner",
   "metadata": {},
   "outputs": [],
   "source": [
    "X_train, X_test, y_train, y_test = train_test_split(lesion_load, motor, test_size=0.2, random_state=42)\n",
    "\n",
    "mdl = Ridge(normalize=True, max_iter=1000000, random_state=0)\n",
    "mdl.fit(X_train, y_train)\n",
    "\n",
    "coefs = mdl.coef_\n"
   ]
  },
  {
   "cell_type": "markdown",
   "id": "meaningful-payment",
   "metadata": {},
   "source": [
    "### Haufe transformation:\n",
    "\n",
    "$W$ = Regression coefficients\n",
    "\n",
    "$\\sum_x$ = Input data covariance\n",
    "\n",
    "$\\sum_{\\hat{s}}^{-1}$ = Response data covariance (1-D) = single value\n",
    "\n",
    "\n",
    "#### Formula for transformation:\n",
    "\n",
    "$A = \\sum_xW\\sum_{\\hat{s}}^{-1}$\n"
   ]
  },
  {
   "cell_type": "code",
   "execution_count": 203,
   "id": "improving-teens",
   "metadata": {},
   "outputs": [
    {
     "name": "stdout",
     "output_type": "stream",
     "text": [
      "X_train shape (816, 6)\n",
      "y_train shape (816,)\n"
     ]
    }
   ],
   "source": [
    "# haufe feature transformation\n",
    "\n",
    "# normalize X (in the same way that is done in Ridge)\n",
    "X_train_norm = (X_train - np.mean(X_train))/np.linalg.norm(X_train,axis=0)\n",
    "\n",
    "# data covariance\n",
    "print('X_train shape {}'.format(X_train_norm.shape))\n",
    "cov_x=np.cov(np.transpose(X_train_norm))\n",
    "\n",
    "# predictor covariance\n",
    "print('y_train shape {}'.format(y_train.shape))\n",
    "cov_y=np.cov(np.transpose(y_train))\n",
    "\n",
    "beta_coeffs = mdl.coef_\n",
    "\n",
    "weight=beta_coeffs\n",
    "\n",
    "haufe_activation=np.matmul(cov_x,weight)*(1/cov_y)"
   ]
  },
  {
   "cell_type": "code",
   "execution_count": 204,
   "id": "dangerous-rebound",
   "metadata": {},
   "outputs": [
    {
     "data": {
      "text/html": [
       "<div>\n",
       "<style scoped>\n",
       "    .dataframe tbody tr th:only-of-type {\n",
       "        vertical-align: middle;\n",
       "    }\n",
       "\n",
       "    .dataframe tbody tr th {\n",
       "        vertical-align: top;\n",
       "    }\n",
       "\n",
       "    .dataframe thead th {\n",
       "        text-align: right;\n",
       "    }\n",
       "</style>\n",
       "<table border=\"1\" class=\"dataframe\">\n",
       "  <thead>\n",
       "    <tr style=\"text-align: right;\">\n",
       "      <th></th>\n",
       "      <th>M1_CST</th>\n",
       "      <th>PMd_CST</th>\n",
       "      <th>PMv_CST</th>\n",
       "      <th>S1_CST</th>\n",
       "      <th>SMA_CST</th>\n",
       "      <th>preSMA_CST</th>\n",
       "    </tr>\n",
       "  </thead>\n",
       "  <tbody>\n",
       "    <tr>\n",
       "      <th>743</th>\n",
       "      <td>0.040640</td>\n",
       "      <td>0.050389</td>\n",
       "      <td>0.114422</td>\n",
       "      <td>0.047275</td>\n",
       "      <td>0.054695</td>\n",
       "      <td>0.055389</td>\n",
       "    </tr>\n",
       "    <tr>\n",
       "      <th>137</th>\n",
       "      <td>-0.005270</td>\n",
       "      <td>0.009355</td>\n",
       "      <td>-0.005304</td>\n",
       "      <td>-0.002453</td>\n",
       "      <td>0.010639</td>\n",
       "      <td>0.014018</td>\n",
       "    </tr>\n",
       "    <tr>\n",
       "      <th>799</th>\n",
       "      <td>-0.009400</td>\n",
       "      <td>-0.007551</td>\n",
       "      <td>-0.009207</td>\n",
       "      <td>-0.014731</td>\n",
       "      <td>0.003162</td>\n",
       "      <td>-0.008763</td>\n",
       "    </tr>\n",
       "    <tr>\n",
       "      <th>933</th>\n",
       "      <td>-0.019291</td>\n",
       "      <td>-0.017982</td>\n",
       "      <td>-0.017921</td>\n",
       "      <td>-0.018653</td>\n",
       "      <td>-0.018463</td>\n",
       "      <td>-0.016181</td>\n",
       "    </tr>\n",
       "    <tr>\n",
       "      <th>822</th>\n",
       "      <td>-0.003843</td>\n",
       "      <td>-0.014199</td>\n",
       "      <td>-0.007165</td>\n",
       "      <td>-0.012787</td>\n",
       "      <td>-0.010296</td>\n",
       "      <td>-0.014785</td>\n",
       "    </tr>\n",
       "    <tr>\n",
       "      <th>...</th>\n",
       "      <td>...</td>\n",
       "      <td>...</td>\n",
       "      <td>...</td>\n",
       "      <td>...</td>\n",
       "      <td>...</td>\n",
       "      <td>...</td>\n",
       "    </tr>\n",
       "    <tr>\n",
       "      <th>106</th>\n",
       "      <td>-0.011210</td>\n",
       "      <td>-0.005546</td>\n",
       "      <td>-0.009298</td>\n",
       "      <td>-0.016334</td>\n",
       "      <td>0.001609</td>\n",
       "      <td>-0.006057</td>\n",
       "    </tr>\n",
       "    <tr>\n",
       "      <th>270</th>\n",
       "      <td>-0.019291</td>\n",
       "      <td>-0.017982</td>\n",
       "      <td>-0.017921</td>\n",
       "      <td>-0.018653</td>\n",
       "      <td>-0.018463</td>\n",
       "      <td>-0.016181</td>\n",
       "    </tr>\n",
       "    <tr>\n",
       "      <th>860</th>\n",
       "      <td>-0.015926</td>\n",
       "      <td>-0.014830</td>\n",
       "      <td>-0.015879</td>\n",
       "      <td>-0.013333</td>\n",
       "      <td>-0.015300</td>\n",
       "      <td>-0.011468</td>\n",
       "    </tr>\n",
       "    <tr>\n",
       "      <th>435</th>\n",
       "      <td>-0.010789</td>\n",
       "      <td>-0.003855</td>\n",
       "      <td>0.004704</td>\n",
       "      <td>-0.013179</td>\n",
       "      <td>-0.015530</td>\n",
       "      <td>-0.015876</td>\n",
       "    </tr>\n",
       "    <tr>\n",
       "      <th>102</th>\n",
       "      <td>-0.017353</td>\n",
       "      <td>-0.017982</td>\n",
       "      <td>-0.017876</td>\n",
       "      <td>-0.010672</td>\n",
       "      <td>-0.018463</td>\n",
       "      <td>-0.016181</td>\n",
       "    </tr>\n",
       "  </tbody>\n",
       "</table>\n",
       "<p>816 rows × 6 columns</p>\n",
       "</div>"
      ],
      "text/plain": [
       "       M1_CST   PMd_CST   PMv_CST    S1_CST   SMA_CST  preSMA_CST\n",
       "743  0.040640  0.050389  0.114422  0.047275  0.054695    0.055389\n",
       "137 -0.005270  0.009355 -0.005304 -0.002453  0.010639    0.014018\n",
       "799 -0.009400 -0.007551 -0.009207 -0.014731  0.003162   -0.008763\n",
       "933 -0.019291 -0.017982 -0.017921 -0.018653 -0.018463   -0.016181\n",
       "822 -0.003843 -0.014199 -0.007165 -0.012787 -0.010296   -0.014785\n",
       "..        ...       ...       ...       ...       ...         ...\n",
       "106 -0.011210 -0.005546 -0.009298 -0.016334  0.001609   -0.006057\n",
       "270 -0.019291 -0.017982 -0.017921 -0.018653 -0.018463   -0.016181\n",
       "860 -0.015926 -0.014830 -0.015879 -0.013333 -0.015300   -0.011468\n",
       "435 -0.010789 -0.003855  0.004704 -0.013179 -0.015530   -0.015876\n",
       "102 -0.017353 -0.017982 -0.017876 -0.010672 -0.018463   -0.016181\n",
       "\n",
       "[816 rows x 6 columns]"
      ]
     },
     "execution_count": 204,
     "metadata": {},
     "output_type": "execute_result"
    }
   ],
   "source": [
    "X_train_norm"
   ]
  },
  {
   "cell_type": "code",
   "execution_count": 205,
   "id": "british-table",
   "metadata": {},
   "outputs": [
    {
     "data": {
      "text/plain": [
       "array([-0.00834436, -0.00919669, -0.00736092, -0.00769353, -0.00894546,\n",
       "       -0.00862362])"
      ]
     },
     "execution_count": 205,
     "metadata": {},
     "output_type": "execute_result"
    }
   ],
   "source": [
    "haufe_activation"
   ]
  },
  {
   "cell_type": "code",
   "execution_count": 206,
   "id": "broad-dependence",
   "metadata": {},
   "outputs": [
    {
     "data": {
      "text/plain": [
       "<matplotlib.colorbar.Colorbar at 0x1617141f0>"
      ]
     },
     "execution_count": 206,
     "metadata": {},
     "output_type": "execute_result"
    },
    {
     "data": {
      "image/png": "[encoded data removed]",
      "text/plain": [
       "<Figure size 432x288 with 2 Axes>"
      ]
     },
     "metadata": {
      "needs_background": "light"
     },
     "output_type": "display_data"
    }
   ],
   "source": [
    "plt.imshow(cov_x)\n",
    "plt.title('X covariance')\n",
    "plt.colorbar()"
   ]
  },
  {
   "cell_type": "code",
   "execution_count": 207,
   "id": "graduate-simon",
   "metadata": {},
   "outputs": [
    {
     "data": {
      "text/plain": [
       "Text(0.5, 1.0, 'haufe activ. weights (abs val)')"
      ]
     },
     "execution_count": 207,
     "metadata": {},
     "output_type": "execute_result"
    },
    {
     "data": {
      "image/png": "[encoded data removed]",
      "text/plain": [
       "<Figure size 432x288 with 2 Axes>"
      ]
     },
     "metadata": {
      "needs_background": "light"
     },
     "output_type": "display_data"
    }
   ],
   "source": [
    "haufe = np.reshape(haufe_activation*-1, [1, 6])\n",
    "plt.imshow(haufe)\n",
    "plt.colorbar()\n",
    "plt.title('haufe activ. weights (abs val)')"
   ]
  },
  {
   "cell_type": "code",
   "execution_count": 208,
   "id": "polar-blend",
   "metadata": {},
   "outputs": [
    {
     "data": {
      "text/plain": [
       "Text(0.5, 1.0, 'avg. covariance')"
      ]
     },
     "execution_count": 208,
     "metadata": {},
     "output_type": "execute_result"
    },
    {
     "data": {
      "image/png": "[encoded data removed]",
      "text/plain": [
       "<Figure size 432x288 with 2 Axes>"
      ]
     },
     "metadata": {
      "needs_background": "light"
     },
     "output_type": "display_data"
    }
   ],
   "source": [
    "avg_cov = np.reshape(np.mean(cov_x,axis=0), [1, 6])\n",
    "plt.imshow(avg_cov)\n",
    "plt.colorbar()\n",
    "plt.title('avg. covariance')"
   ]
  },
  {
   "cell_type": "code",
   "execution_count": 209,
   "id": "female-blackberry",
   "metadata": {},
   "outputs": [
    {
     "data": {
      "text/plain": [
       "Text(0.5, 1.0, 'betas (abs val)')"
      ]
     },
     "execution_count": 209,
     "metadata": {},
     "output_type": "execute_result"
    },
    {
     "data": {
      "image/png": "[encoded data removed]",
      "text/plain": [
       "<Figure size 432x288 with 2 Axes>"
      ]
     },
     "metadata": {
      "needs_background": "light"
     },
     "output_type": "display_data"
    }
   ],
   "source": [
    "betas = np.reshape(mdl.coef_*-1, [1, 6])\n",
    "plt.imshow(betas)\n",
    "plt.colorbar()\n",
    "plt.title('betas (abs val)')"
   ]
  },
  {
   "cell_type": "code",
   "execution_count": 210,
   "id": "separate-midwest",
   "metadata": {},
   "outputs": [
    {
     "name": "stdout",
     "output_type": "stream",
     "text": [
      "[[1.         0.98676316]\n",
      " [0.98676316 1.        ]]\n",
      "[[0.00069257 0.00075008 0.00062819 0.00065011 0.00072158 0.00069359]]\n",
      "[[0.00834436 0.00919669 0.00736092 0.00769353 0.00894546 0.00862362]]\n"
     ]
    }
   ],
   "source": [
    "print(np.corrcoef(avg_cov, haufe))\n",
    "\n",
    "print(avg_cov)\n",
    "print(haufe)"
   ]
  },
  {
   "cell_type": "code",
   "execution_count": null,
   "id": "sapphire-dubai",
   "metadata": {},
   "outputs": [],
   "source": []
  }
 ],
 "metadata": {
  "kernelspec": {
   "display_name": "Python 3",
   "language": "python",
   "name": "python3"
  },
  "language_info": {
   "codemirror_mode": {
    "name": "ipython",
    "version": 3
   },
   "file_extension": ".py",
   "mimetype": "text/x-python",
   "name": "python",
   "nbconvert_exporter": "python",
   "pygments_lexer": "ipython3",
   "version": "3.9.2"
  }
 },
 "nbformat": 4,
 "nbformat_minor": 5
}
