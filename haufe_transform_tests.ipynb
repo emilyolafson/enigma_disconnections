{
 "cells": [
  {
   "cell_type": "code",
   "execution_count": 171,
   "id": "reflected-geology",
   "metadata": {},
   "outputs": [],
   "source": [
    "import numpy as np\n",
    "import pandas as pd\n",
    "from sklearn.linear_model import Ridge\n",
    "import matplotlib.pyplot as plt\n",
    "\n",
    "from sklearn.model_selection import train_test_split\n",
    "%matplotlib inline\n",
    "\n",
    "\n",
    "# code to show how haufe-transformed feature weights are related to data covariance"
   ]
  },
  {
   "cell_type": "code",
   "execution_count": null,
   "id": "hazardous-london",
   "metadata": {},
   "outputs": [],
   "source": [
    "def load_csv(csv_path):\n",
    "    df = pd.read_csv(csv_path, header =0)\n",
    "    return df"
   ]
  },
  {
   "cell_type": "code",
   "execution_count": 142,
   "id": "established-apache",
   "metadata": {},
   "outputs": [],
   "source": [
    "df = load_csv('~/GIT/archive/data.csv')\n",
    "\n",
    "llvars = ['M1_CST', 'PMd_CST', 'PMv_CST','S1_CST','SMA_CST','preSMA_CST']\n",
    "\n",
    "motor = df['NORMED_MOTOR']\n",
    "lesion_load = df[llvars]\n"
   ]
  },
  {
   "cell_type": "code",
   "execution_count": 145,
   "id": "domestic-dining",
   "metadata": {},
   "outputs": [
    {
     "data": {
      "text/html": [
       "<div>\n",
       "<style scoped>\n",
       "    .dataframe tbody tr th:only-of-type {\n",
       "        vertical-align: middle;\n",
       "    }\n",
       "\n",
       "    .dataframe tbody tr th {\n",
       "        vertical-align: top;\n",
       "    }\n",
       "\n",
       "    .dataframe thead th {\n",
       "        text-align: right;\n",
       "    }\n",
       "</style>\n",
       "<table border=\"1\" class=\"dataframe\">\n",
       "  <thead>\n",
       "    <tr style=\"text-align: right;\">\n",
       "      <th></th>\n",
       "      <th>M1_CST</th>\n",
       "      <th>PMd_CST</th>\n",
       "      <th>PMv_CST</th>\n",
       "      <th>S1_CST</th>\n",
       "      <th>SMA_CST</th>\n",
       "      <th>preSMA_CST</th>\n",
       "    </tr>\n",
       "  </thead>\n",
       "  <tbody>\n",
       "    <tr>\n",
       "      <th>0</th>\n",
       "      <td>0.002082</td>\n",
       "      <td>0.102837</td>\n",
       "      <td>0.541656</td>\n",
       "      <td>0.010315</td>\n",
       "      <td>0.028453</td>\n",
       "      <td>0.052155</td>\n",
       "    </tr>\n",
       "    <tr>\n",
       "      <th>1</th>\n",
       "      <td>0.000925</td>\n",
       "      <td>0.014657</td>\n",
       "      <td>0.048664</td>\n",
       "      <td>0.000000</td>\n",
       "      <td>0.014622</td>\n",
       "      <td>0.009607</td>\n",
       "    </tr>\n",
       "    <tr>\n",
       "      <th>2</th>\n",
       "      <td>0.004280</td>\n",
       "      <td>0.039716</td>\n",
       "      <td>0.022745</td>\n",
       "      <td>0.000175</td>\n",
       "      <td>0.051176</td>\n",
       "      <td>0.076585</td>\n",
       "    </tr>\n",
       "    <tr>\n",
       "      <th>3</th>\n",
       "      <td>0.306340</td>\n",
       "      <td>0.400946</td>\n",
       "      <td>0.000000</td>\n",
       "      <td>0.034965</td>\n",
       "      <td>0.413357</td>\n",
       "      <td>0.446884</td>\n",
       "    </tr>\n",
       "    <tr>\n",
       "      <th>4</th>\n",
       "      <td>0.226516</td>\n",
       "      <td>0.161466</td>\n",
       "      <td>0.166623</td>\n",
       "      <td>0.234091</td>\n",
       "      <td>0.139103</td>\n",
       "      <td>0.167444</td>\n",
       "    </tr>\n",
       "    <tr>\n",
       "      <th>...</th>\n",
       "      <td>...</td>\n",
       "      <td>...</td>\n",
       "      <td>...</td>\n",
       "      <td>...</td>\n",
       "      <td>...</td>\n",
       "      <td>...</td>\n",
       "    </tr>\n",
       "    <tr>\n",
       "      <th>1015</th>\n",
       "      <td>0.035400</td>\n",
       "      <td>0.012057</td>\n",
       "      <td>0.038350</td>\n",
       "      <td>0.018881</td>\n",
       "      <td>0.030626</td>\n",
       "      <td>0.000000</td>\n",
       "    </tr>\n",
       "    <tr>\n",
       "      <th>1016</th>\n",
       "      <td>0.044655</td>\n",
       "      <td>0.074941</td>\n",
       "      <td>0.050780</td>\n",
       "      <td>0.055070</td>\n",
       "      <td>0.068168</td>\n",
       "      <td>0.073017</td>\n",
       "    </tr>\n",
       "    <tr>\n",
       "      <th>1017</th>\n",
       "      <td>0.206617</td>\n",
       "      <td>0.142553</td>\n",
       "      <td>0.588204</td>\n",
       "      <td>0.321678</td>\n",
       "      <td>0.114207</td>\n",
       "      <td>0.103761</td>\n",
       "    </tr>\n",
       "    <tr>\n",
       "      <th>1018</th>\n",
       "      <td>0.000000</td>\n",
       "      <td>0.000000</td>\n",
       "      <td>0.000000</td>\n",
       "      <td>0.011713</td>\n",
       "      <td>0.000000</td>\n",
       "      <td>0.000000</td>\n",
       "    </tr>\n",
       "    <tr>\n",
       "      <th>1019</th>\n",
       "      <td>0.006478</td>\n",
       "      <td>0.009929</td>\n",
       "      <td>0.008067</td>\n",
       "      <td>0.007605</td>\n",
       "      <td>0.009978</td>\n",
       "      <td>0.009882</td>\n",
       "    </tr>\n",
       "  </tbody>\n",
       "</table>\n",
       "<p>1020 rows × 6 columns</p>\n",
       "</div>"
      ],
      "text/plain": [
       "        M1_CST   PMd_CST   PMv_CST    S1_CST   SMA_CST  preSMA_CST\n",
       "0     0.002082  0.102837  0.541656  0.010315  0.028453    0.052155\n",
       "1     0.000925  0.014657  0.048664  0.000000  0.014622    0.009607\n",
       "2     0.004280  0.039716  0.022745  0.000175  0.051176    0.076585\n",
       "3     0.306340  0.400946  0.000000  0.034965  0.413357    0.446884\n",
       "4     0.226516  0.161466  0.166623  0.234091  0.139103    0.167444\n",
       "...        ...       ...       ...       ...       ...         ...\n",
       "1015  0.035400  0.012057  0.038350  0.018881  0.030626    0.000000\n",
       "1016  0.044655  0.074941  0.050780  0.055070  0.068168    0.073017\n",
       "1017  0.206617  0.142553  0.588204  0.321678  0.114207    0.103761\n",
       "1018  0.000000  0.000000  0.000000  0.011713  0.000000    0.000000\n",
       "1019  0.006478  0.009929  0.008067  0.007605  0.009978    0.009882\n",
       "\n",
       "[1020 rows x 6 columns]"
      ]
     },
     "execution_count": 145,
     "metadata": {},
     "output_type": "execute_result"
    }
   ],
   "source": [
    "lesion_load"
   ]
  },
  {
   "cell_type": "code",
   "execution_count": null,
   "id": "progressive-sitting",
   "metadata": {},
   "outputs": [],
   "source": [
    "X_train, X_test, y_train, y_test = train_test_split(lesion_load, motor, test_size=0.2, random_state=42)\n",
    "\n",
    "mdl = Ridge(normalize=True, max_iter=1000000, random_state=0)\n",
    "\n",
    "mdl.fit(X_train, y_train)\n",
    "\n",
    "coefs = mdl.coef_"
   ]
  },
  {
   "cell_type": "markdown",
   "id": "fifteen-controversy",
   "metadata": {},
   "source": [
    "### Haufe transformation:\n",
    "\n",
    "$W$ = Regression coefficients\n",
    "\n",
    "$\\sum_x$ = Input data covariance\n",
    "\n",
    "$\\sum_{\\hat{s}}^{-1}$ = Response data covariance (1-D) = single value\n",
    "\n",
    "\n",
    "#### Formula for transformation:\n",
    "\n",
    "$A = \\sum_xW\\sum_{\\hat{s}}^{-1}$\n"
   ]
  },
  {
   "cell_type": "code",
   "execution_count": 170,
   "id": "governing-aspect",
   "metadata": {},
   "outputs": [
    {
     "name": "stdout",
     "output_type": "stream",
     "text": [
      "X_train shape (816, 6)\n",
      "y_train shape (816,)\n"
     ]
    }
   ],
   "source": [
    "# haufe feature transformation\n",
    "\n",
    "# data covariance\n",
    "print('X_train shape {}'.format(X_train.shape))\n",
    "cov_x=np.cov(np.transpose(X_train))\n",
    "\n",
    "# predictor covariance\n",
    "print('y_train shape {}'.format(y_train.shape))\n",
    "cov_y=np.cov(np.transpose(y_train))\n",
    "\n",
    "beta_coeffs = mdl.coef_\n",
    "\n",
    "weight=beta_coeffs\n",
    "\n",
    "haufe_activation=np.matmul(cov_x,weight)*(1/cov_y)"
   ]
  },
  {
   "cell_type": "code",
   "execution_count": 163,
   "id": "beginning-package",
   "metadata": {},
   "outputs": [
    {
     "data": {
      "text/plain": [
       "array([-0.16114571, -0.15605637, -0.18664917, -0.17155974, -0.12493145,\n",
       "       -0.10860537])"
      ]
     },
     "execution_count": 163,
     "metadata": {},
     "output_type": "execute_result"
    }
   ],
   "source": [
    "haufe_activation"
   ]
  },
  {
   "cell_type": "code",
   "execution_count": 164,
   "id": "descending-appraisal",
   "metadata": {},
   "outputs": [
    {
     "data": {
      "text/plain": [
       "<matplotlib.colorbar.Colorbar at 0x161265d60>"
      ]
     },
     "execution_count": 164,
     "metadata": {},
     "output_type": "execute_result"
    },
    {
     "data": {
      "image/png": "[encoded data removed]",
      "text/plain": [
       "<Figure size 432x288 with 2 Axes>"
      ]
     },
     "metadata": {
      "needs_background": "light"
     },
     "output_type": "display_data"
    }
   ],
   "source": [
    "plt.imshow(cov_x)\n",
    "plt.title('X covariance')\n",
    "plt.colorbar()"
   ]
  },
  {
   "cell_type": "code",
   "execution_count": 165,
   "id": "compound-sleeve",
   "metadata": {},
   "outputs": [
    {
     "data": {
      "text/plain": [
       "Text(0.5, 1.0, 'haufe activ. weights (abs val)')"
      ]
     },
     "execution_count": 165,
     "metadata": {},
     "output_type": "execute_result"
    },
    {
     "data": {
      "image/png": "[encoded data removed]",
      "text/plain": [
       "<Figure size 432x288 with 2 Axes>"
      ]
     },
     "metadata": {
      "needs_background": "light"
     },
     "output_type": "display_data"
    }
   ],
   "source": [
    "haufe = np.reshape(haufe_activation*-1, [1, 6])\n",
    "plt.imshow(haufe)\n",
    "plt.colorbar()\n",
    "plt.title('haufe activ. weights (abs val)')"
   ]
  },
  {
   "cell_type": "code",
   "execution_count": 166,
   "id": "fallen-medium",
   "metadata": {},
   "outputs": [
    {
     "data": {
      "text/plain": [
       "Text(0.5, 1.0, 'avg. covariance')"
      ]
     },
     "execution_count": 166,
     "metadata": {},
     "output_type": "execute_result"
    },
    {
     "data": {
      "image/png": "[encoded data removed]",
      "text/plain": [
       "<Figure size 432x288 with 2 Axes>"
      ]
     },
     "metadata": {
      "needs_background": "light"
     },
     "output_type": "display_data"
    }
   ],
   "source": [
    "avg_cov = np.reshape(np.mean(cov_x,axis=0), [1, 6])\n",
    "plt.imshow(avg_cov)\n",
    "plt.colorbar()\n",
    "plt.title('avg. covariance')"
   ]
  },
  {
   "cell_type": "code",
   "execution_count": 167,
   "id": "worldwide-animation",
   "metadata": {},
   "outputs": [
    {
     "data": {
      "text/plain": [
       "Text(0.5, 1.0, 'betas (abs val)')"
      ]
     },
     "execution_count": 167,
     "metadata": {},
     "output_type": "execute_result"
    },
    {
     "data": {
      "image/png": "[encoded data removed]",
      "text/plain": [
       "<Figure size 432x288 with 2 Axes>"
      ]
     },
     "metadata": {
      "needs_background": "light"
     },
     "output_type": "display_data"
    }
   ],
   "source": [
    "betas = np.reshape(mdl.coef_*-1, [1, 6])\n",
    "plt.imshow(betas)\n",
    "plt.colorbar()\n",
    "plt.title('betas (abs val)')"
   ]
  },
  {
   "cell_type": "code",
   "execution_count": 168,
   "id": "destroyed-deadline",
   "metadata": {},
   "outputs": [
    {
     "data": {
      "text/plain": [
       "array([[1.        , 0.99817484],\n",
       "       [0.99817484, 1.        ]])"
      ]
     },
     "execution_count": 168,
     "metadata": {},
     "output_type": "execute_result"
    }
   ],
   "source": [
    "np.corrcoef(avg_cov, haufe)"
   ]
  }
 ],
 "metadata": {
  "kernelspec": {
   "display_name": "Python 3",
   "language": "python",
   "name": "python3"
  },
  "language_info": {
   "codemirror_mode": {
    "name": "ipython",
    "version": 3
   },
   "file_extension": ".py",
   "mimetype": "text/x-python",
   "name": "python",
   "nbconvert_exporter": "python",
   "pygments_lexer": "ipython3",
   "version": "3.9.2"
  }
 },
 "nbformat": 4,
 "nbformat_minor": 5
}
