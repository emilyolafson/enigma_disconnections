{
 "cells": [
  {
   "cell_type": "code",
   "execution_count": 128,
   "metadata": {},
   "outputs": [],
   "source": [
    "import numpy as np\n",
    "import pandas as pd\n",
    "import matplotlib.pyplot as plt\n",
    "import glob\n",
    "import seaborn as sns"
   ]
  },
  {
   "cell_type": "code",
   "execution_count": 78,
   "metadata": {},
   "outputs": [
    {
     "data": {
      "text/plain": [
       "'/Users/emilyolafson/GIT/ENIGMA/enigma_disconnections/cortical_atrophy/data/FREESURFER_ENIGMA/overlap_roi_lesion/sub-r010s012_pct_overlap_fs_lesion.txt'"
      ]
     },
     "execution_count": 78,
     "metadata": {},
     "output_type": "execute_result"
    }
   ],
   "source": [
    "# run matlab code to find regions that intersect with the lesion\n",
    "\n",
    "# overlap_fs_lesion.m\n"
   ]
  },
  {
   "cell_type": "code",
   "execution_count": 154,
   "metadata": {},
   "outputs": [],
   "source": [
    "counter =0\n",
    "sub_names=[]\n",
    "thr = 0\n",
    "for file in glob.glob(\"/Users/emilyolafson/GIT/ENIGMA/enigma_disconnections/cortical_atrophy/data/FREESURFER_ENIGMA/overlap_roi_lesion/*.txt\"):\n",
    "    sub_name = str(file[112:124])\n",
    "    if counter == 0:\n",
    "        base = list(pd.read_table(file, header=0,delimiter=',').columns)\n",
    "\n",
    "    values = pd.read_table(file,header=0, delimiter =',')\n",
    "    values_bin = values > thr\n",
    "\n",
    "    values.insert(0,'Subject', sub_name )\n",
    "    values_bin.insert(0,'Subject', sub_name )\n",
    "\n",
    "    if counter == 0:\n",
    "        all_overlap_pct = values\n",
    "        all_overlap_pct_bin = values_bin\n",
    "\n",
    "        counter = counter +1\n",
    "        continue\n",
    "    else:\n",
    "        all_overlap_pct=pd.concat((all_overlap_pct, values))\n",
    "        all_overlap_bin=pd.concat((all_overlap_pct_bin, values_bin))\n",
    "\n",
    "\n",
    "all_overlap_pct.sort_values(by='Subject',inplace=True)\n",
    "all_overlap_bin.sort_values(by='Subject',inplace=True)\n",
    "\n",
    "all_overlap_pct.to_csv('/Users/emilyolafson/GIT/ENIGMA/enigma_disconnections/cortical_atrophy/data/FREESURFER_ENIGMA/overlap_roi_lesion/overlap_pct_allrois_allENIGMA_subjects.csv')\n",
    "all_overlap_bin.to_csv('/Users/emilyolafson/GIT/ENIGMA/enigma_disconnections/cortical_atrophy/data/FREESURFER_ENIGMA/overlap_roi_lesion/overlap_bin_allrois_allENIGMA_subjects.csv')"
   ]
  },
  {
   "cell_type": "code",
   "execution_count": 272,
   "metadata": {},
   "outputs": [],
   "source": [
    "enigma_combat_CT =  pd.read_table('/Users/emilyolafson/GIT/ENIGMA/enigma_disconnections/cortical_atrophy/data/FREESURFER_ENIGMA/enigma_thickness_datasetvar_COMBAT.csv', header=0, sep=',')\n",
    "\n",
    "mean_HCP_combat_CT =  pd.read_table('/Users/emilyolafson/GIT/ENIGMA/enigma_disconnections/cortical_atrophy/data/combat_CT_HCP_AGING_YA_age_mean.csv', header=0, sep=',')\n",
    "std_HCP_combat_CT =  pd.read_table('/Users/emilyolafson/GIT/ENIGMA/enigma_disconnections/cortical_atrophy/data/combat_CT_HCP_AGING_YA_age_std.csv', header=0, sep=',')\n",
    "\n",
    "age_enigma=enigma_combat_CT['age']\n",
    "\n",
    "columns=[]\n",
    "for col in enigma_combat_CT.columns:\n",
    "    if col == 'Subject':\n",
    "        continue\n",
    "    col=col.replace('_thickness', '')\n",
    "    col=col.replace('_', '-') \n",
    "    col = 'ctx-'+ col\n",
    "    columns.append(col)\n",
    "\n",
    "columns.remove('ctx-rh-MeanThickness')\n",
    "columns.remove('ctx-lh-MeanThickness')\n",
    "columns.remove('ctx-age')\n",
    "columns.remove('ctx-sex')\n",
    "columns.remove('ctx-dataset')\n",
    "columns.remove('ctx-site')\n",
    "\n",
    "z_enigma_df = pd.DataFrame(columns=columns)\n",
    "z_enigma_df_NaNd = pd.DataFrame(columns=columns)\n",
    "\n",
    "for s in range(0, len(age_enigma)):\n",
    "    subj_age = age_enigma.iloc[s]\n",
    "    subject_id = enigma_combat_CT.iloc[s, 0]\n",
    "    refage_sub = np.round(subj_age)\n",
    "    hcp_mean_age_vector = mean_HCP_combat_CT[mean_HCP_combat_CT['age']==refage_sub]\n",
    "    hcp_std_age_vector = std_HCP_combat_CT[std_HCP_combat_CT['age']==refage_sub]\n",
    "\n",
    "    alloverlaps = all_overlap_pct[all_overlap_pct['Subject']==subject_id]\n",
    "    ct_enigma_sub = enigma_combat_CT[enigma_combat_CT['Subject']==subject_id]\n",
    "    z_enigma_df_NaNd.loc[s,'Subject']=subject_id\n",
    "\n",
    "    for col in columns:\n",
    "        if alloverlaps[col].any()==0:\n",
    "            col2=col.replace('-', '_') \n",
    "            col2=col2.replace('ctx_', '')\n",
    "\n",
    "            mean_roi = hcp_mean_age_vector[col2+'_thickness_mean']\n",
    "            std_roi = hcp_std_age_vector[col2+'_thickness_std']\n",
    "            ct_roi = ct_enigma_sub[col2+'_thickness']\n",
    "            z_enigma = (ct_roi.values-mean_roi.values)/std_roi.values\n",
    "            z_enigma_df_NaNd.loc[s,col]=float(z_enigma)\n",
    "        else:\n",
    "            z_enigma_df_NaNd.loc[s,col]=float(0.0000)\n",
    "\n",
    "z_enigma_df.to_csv('/Users/emilyolafson/GIT/ENIGMA/enigma_disconnections/cortical_atrophy/data/FREESURFER_ENIGMA/enigma_combat_thickness_zscore.csv', header=True, sep=',')\n",
    "z_enigma_df_NaNd.to_csv('/Users/emilyolafson/GIT/ENIGMA/enigma_disconnections/cortical_atrophy/data/FREESURFER_ENIGMA/enigma_combat_thickness_zscore_NANs.csv', header=True, sep=',')"
   ]
  },
  {
   "cell_type": "code",
   "execution_count": 133,
   "metadata": {},
   "outputs": [],
   "source": [
    "# make figures of zcsores  (better viz in R)\n",
    "\n",
    "fig, axs = plt.subplots(ncols=5, nrows=7,figsize=(25,35))\n",
    "counter =0\n",
    "rowcount=0\n",
    "# left hem\n",
    "\n",
    "for i in range(2,37):\n",
    "    y_zsc = z_enigma_df.iloc[:,i-1]\n",
    "    sns.histplot(x=y_zsc, data=z_enigma_df, ax=axs[rowcount,counter%5],palette=\"hls\")\n",
    "\n",
    "    #axs[rowcount,counter%5].set_ylim([1.2, 5])\n",
    "    #axs[rowcount,counter%5].set_ylim([1.2, 5])\n",
    "    axs[rowcount,counter%5].tick_params(axis='x', labelsize=10)\n",
    "    axs[rowcount,counter%5].tick_params(axis='y', labelsize=10)\n",
    "   # axs[rowcount,counter%5].legend(['ComBat-adjusted HCP mean',' +/- 1 standard deviation','ComBat-Adjusted ENIGMA'])\n",
    "\n",
    "   # axs[rowcount,counter%5].get_legend().remove()\n",
    "    counter = counter +1\n",
    "    if (counter%5 ==0) & (counter!=0):\n",
    "        rowcount = rowcount+1\n",
    "\n",
    "#plt.savefig('/Users/emilyolafson/GIT/ENIGMA/enigma_disconnections/cortical_atrophy/figures/lefthem_CT_hcp_YA_AGING_ENIGMA_meanstd.jpeg',bbox_inches='tight')\n",
    "plt.savefig('/Users/emilyolafson/GIT/ENIGMA/enigma_disconnections/cortical_atrophy/figures/lh_zscores_ENIGMA.pdf',bbox_inches='tight')"
   ]
  }
 ],
 "metadata": {
  "kernelspec": {
   "display_name": "Python 3.9.2 ('myenv')",
   "language": "python",
   "name": "python3"
  },
  "language_info": {
   "codemirror_mode": {
    "name": "ipython",
    "version": 3
   },
   "file_extension": ".py",
   "mimetype": "text/x-python",
   "name": "python",
   "nbconvert_exporter": "python",
   "pygments_lexer": "ipython3",
   "version": "3.9.2"
  },
  "orig_nbformat": 4,
  "vscode": {
   "interpreter": {
    "hash": "43d17ee6803eb3ad2d3e1d5dbc5a33b5df735f96b5206a5a478194b252558b80"
   }
  }
 },
 "nbformat": 4,
 "nbformat_minor": 2
}
