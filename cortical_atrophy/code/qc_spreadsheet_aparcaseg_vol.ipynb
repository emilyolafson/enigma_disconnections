{
 "cells": [
  {
   "cell_type": "code",
   "execution_count": 2,
   "metadata": {},
   "outputs": [],
   "source": [
    "import numpy as np\n",
    "import pandas as pd\n",
    "import glob"
   ]
  },
  {
   "cell_type": "code",
   "execution_count": 32,
   "metadata": {},
   "outputs": [
    {
     "name": "stdout",
     "output_type": "stream",
     "text": [
      "0       sub-r001s001\n",
      "1       sub-r001s002\n",
      "2       sub-r001s003\n",
      "3       sub-r001s004\n",
      "4       sub-r001s005\n",
      "            ...     \n",
      "1063    sub-r054s008\n",
      "1064    sub-r054s009\n",
      "1065    sub-r054s010\n",
      "1066    sub-r054s011\n",
      "1067    sub-r054s012\n",
      "Name: 0, Length: 1068, dtype: object\n"
     ]
    }
   ],
   "source": [
    "# read subj id list\n",
    "subids = pd.read_csv('~/GIT/ENIGMA/data/SUB_ids.csv', header=None)\n",
    "\n",
    "print(subids[0])\n",
    "sdf= pd.DataFrame(subids[0])\n",
    "sdf.rename(columns = {0:'Subject'}, inplace = True)\n",
    "\n",
    "distanceNames=[]\n",
    "for file in glob.glob(\"/Users/emilyolafson/GIT/ENIGMA/enigma_disconnections/cortical_atrophy/data/FREESURFER_ENIGMA/distance_roi_lesion/*\"):\n",
    "    sub_name = str(file[113:125])\n",
    "    distanceNames.append(sub_name)\n",
    "\n",
    "distanceNames.sort()\n",
    "distanceNames= pd.DataFrame(distanceNames)\n",
    "distanceNames.rename(columns = {0:'Subject'}, inplace = True)\n",
    "distanceNames['hasDistance']=1\n",
    "\n",
    "voxelNames=[]\n",
    "for file in glob.glob(\"/Users/emilyolafson/GIT/ENIGMA/enigma_disconnections/cortical_atrophy/data/FREESURFER_ENIGMA/voxelwise_aseg_aparc/*\"):\n",
    "    sub_name = str(file[114:126])\n",
    "    voxelNames.append(sub_name)\n",
    "\n",
    "voxelNames.sort()\n",
    "voxelNames= pd.DataFrame(voxelNames)\n",
    "voxelNames.rename(columns = {0:'Subject'}, inplace = True)\n",
    "voxelNames['hasVoxelwise']=1\n",
    "\n",
    "fulldf=sdf.merge(voxelNames,how='left', left_on='Subject', right_on='Subject')\n",
    "fulldf=fulldf.merge(distanceNames,how='left', left_on='Subject', right_on='Subject')\n",
    "\n",
    "fulldf.to_csv(\"/Users/emilyolafson/GIT/ENIGMA/enigma_disconnections/cortical_atrophy/data/FREESURFER_ENIGMA/QCtable_distance_voxels.csv\")"
   ]
  },
  {
   "cell_type": "code",
   "execution_count": null,
   "metadata": {},
   "outputs": [],
   "source": []
  }
 ],
 "metadata": {
  "kernelspec": {
   "display_name": "Python 3.9.2 ('myenv')",
   "language": "python",
   "name": "python3"
  },
  "language_info": {
   "codemirror_mode": {
    "name": "ipython",
    "version": 3
   },
   "file_extension": ".py",
   "mimetype": "text/x-python",
   "name": "python",
   "nbconvert_exporter": "python",
   "pygments_lexer": "ipython3",
   "version": "3.9.2"
  },
  "orig_nbformat": 4,
  "vscode": {
   "interpreter": {
    "hash": "43d17ee6803eb3ad2d3e1d5dbc5a33b5df735f96b5206a5a478194b252558b80"
   }
  }
 },
 "nbformat": 4,
 "nbformat_minor": 2
}
