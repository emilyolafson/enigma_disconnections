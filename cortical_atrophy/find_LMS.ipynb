{
 "cells": [
  {
   "cell_type": "code",
   "execution_count": 164,
   "metadata": {},
   "outputs": [],
   "source": [
    "## find L, M, S functions by age/sex/region\n",
    "# We calculated the centiles (0.4, 1, 2.5, 5, 10, 25, 50, 75, 90, 95, 97.5, 99, 99.6) for each regional \n",
    "# # cortical thickness measure by sex and hemisphere as normalized growth centiles using parametric \n",
    "# # Lambda (λ), Mu (μ), Sigma (σ) (LMS) method (Cole and Green, 1992) in the Generalized Additive Models\n",
    "# #  for Location, Scale and Shape (GAMLSS) package in R (http://cran.r-project.org/web/packages/gamlss/index.html) \n",
    "# #(Rigby & Stasinopoulos, 2005; Stasinopoulos & Rigby, 2007). LMS is considered a powerful method for estimating \n",
    "# #centile curves based on the distribution of a response variable at each covariate value (in this case age).\n",
    "# # GAMLSS uses a penalized maximum likelihood function to estimate parameters of smoothness (effective degrees of \n",
    "# #freedom) which are then used to estimate the λ, μ, and σ parameters. The goodness of fit for these parameters in \n",
    "# #the GAMLSS algorithm is established by minimizing the Generalized Akaike Information Criterion (GAIC) index.\n",
    "\n",
    "# if we can estimate L,M,S then we can estimate centiles and therefore z-scores for each subject and region.\n",
    "\n",
    "import numpy as np\n",
    "import pandas as pd\n",
    "import scipy.stats as st\n",
    "import seaborn as sns\n",
    "import matplotlib.pyplot as plt"
   ]
  },
  {
   "cell_type": "code",
   "execution_count": 368,
   "metadata": {},
   "outputs": [
    {
     "name": "stdout",
     "output_type": "stream",
     "text": [
      "36\n"
     ]
    }
   ],
   "source": [
    "# load the centile information\n",
    "# male\n",
    "male_centiles = pd.read_csv('/Users/emilyolafson/GIT/ENIGMA/cortical_atrophy/centiles_CT_males.csv', header=0)\n",
    "male_centiles.rename(columns={'Unnamed: 0':'Region'},inplace = True)\n",
    "\n",
    "# female\n",
    "female_centiles = pd.read_csv('/Users/emilyolafson/GIT/ENIGMA/cortical_atrophy/centiles_CT_females.csv', header=0)\n",
    "female_centiles.rename(columns={'Unnamed: 0':'Region'},inplace = True)\n",
    "\n",
    "# load cortical thickness data to get headers (regions)\n",
    "rh_thickness =  pd.read_table('/Users/emilyolafson/GIT/ENIGMA/data/FREESURFER/aseg_aparc/aparc_rh_stats_thickness.txt', header=0)\n",
    "lh_thickness =  pd.read_table('/Users/emilyolafson/GIT/ENIGMA/data/FREESURFER/aseg_aparc/aparc_lh_stats_thickness.txt', header=0)\n",
    "\n",
    "# change col names so they match centile naming\n",
    "newRcols=[]\n",
    "newLcols=[]\n",
    "for x in rh_thickness.columns: newRcols.append(x.replace('_thickness', '').replace('rh_', 'R_'))\n",
    "for x in lh_thickness.columns: newLcols.append(x.replace('_thickness', '').replace('lh_', 'L_'))\n",
    "\n",
    "rh_thickness.columns = newRcols\n",
    "lh_thickness.columns = newLcols\n",
    "\n",
    "print(len(rh_thickness.columns))"
   ]
  },
  {
   "cell_type": "code",
   "execution_count": 343,
   "metadata": {},
   "outputs": [
    {
     "name": "stdout",
     "output_type": "stream",
     "text": [
      "0\n",
      "R_bankssts\n"
     ]
    },
    {
     "name": "stderr",
     "output_type": "stream",
     "text": [
      "<ipython-input-343-b62f502ea0fa>:45: RuntimeWarning: invalid value encountered in power\n",
      "  Calpha_pred = pow(M*(1+S*Z*L),1/L)\n"
     ]
    },
    {
     "name": "stdout",
     "output_type": "stream",
     "text": [
      "1\n",
      "R_bankssts\n"
     ]
    }
   ],
   "source": [
    "list_centiles = [0.004, 0.01, 0.025, .05, .10, .25, .50, .75, .90, .95, .975, 0.99, .996]\n",
    "\n",
    "for i in range(0,2):\n",
    "    print(i)\n",
    "    region = rh_thickness.columns[1]\n",
    "    print(region)\n",
    "\n",
    "    #male\n",
    "    idx=np.empty((13,1))\n",
    "\n",
    "    for i in range(0,13): idx[i] =np.where(male_centiles['Region']==region)[0][0]+i\n",
    "\n",
    "    centiles = male_centiles.iloc[idx[1]]\n",
    "\n",
    "    centiles=centiles.values[0][2:15]\n",
    "\n",
    "    min_ssd = np.empty((len(idx),1))\n",
    "\n",
    "    Z = st.norm.ppf(list_centiles) #alpha to Z via norm\n",
    "\n",
    "    Calphas_true = centiles\n",
    "    M=[]\n",
    "    L=[]\n",
    "    S=[]\n",
    "\n",
    "    nM =100\n",
    "    nL =100\n",
    "    nS =100\n",
    "    Ms = np.logspace(0,10,nM,base=2)\n",
    "    Ls = np.linspace(1,10,nL)\n",
    "    Ss = np.linspace(-0.1,0.1,nS)\n",
    "\n",
    "    Mc=np.arange(0,nM)\n",
    "    Sc=np.arange(0,nS)\n",
    "    Lc=np.arange(0,nL)\n",
    "\n",
    "    ssd = np.empty((nM,nL,nS))\n",
    "    lowestssd=1\n",
    "    for m in Mc: \n",
    "        M = Ms[m]\n",
    "        for l in Lc: \n",
    "            L=Ls[l]\n",
    "            for s in Sc:\n",
    "                S = Ss[s]\n",
    "                Calpha_pred = pow(M*(1+S*Z*L),1/L)\n",
    "                \n",
    "                ssd[m,l,s]=np.sum((Calpha_pred-Calphas_true)**2)\n",
    "                if ssd[m,l,s] < lowestssd:\n",
    "                    lowestssd = ssd[m,l,s]\n",
    "                    Cpreds = Calpha_pred\n",
    "                    calphs=Calphas_true\n",
    "                    bestm = M\n",
    "                    bestl = L\n",
    "                    bests = S\n",
    "\n",
    "    min_ssd[i]= np.nanmin(ssd)\n",
    "\n"
   ]
  },
  {
   "cell_type": "code",
   "execution_count": 344,
   "metadata": {},
   "outputs": [
    {
     "data": {
      "text/plain": [
       "array([[-0.00000000e+000, -0.00000000e+000],\n",
       "       [ 6.42285340e-323,  0.00000000e+000],\n",
       "       [ 0.00000000e+000,  0.00000000e+000],\n",
       "       [ 0.00000000e+000,  0.00000000e+000],\n",
       "       [ 0.00000000e+000,  0.00000000e+000],\n",
       "       [ 0.00000000e+000,  0.00000000e+000],\n",
       "       [ 0.00000000e+000,  0.00000000e+000],\n",
       "       [ 0.00000000e+000,  0.00000000e+000],\n",
       "       [-0.00000000e+000, -0.00000000e+000],\n",
       "       [ 2.47032823e-323,  0.00000000e+000],\n",
       "       [ 0.00000000e+000,  0.00000000e+000],\n",
       "       [-0.00000000e+000, -2.00000015e+000],\n",
       "       [ 1.39445518e-003,  1.39445518e-003]])"
      ]
     },
     "execution_count": 344,
     "metadata": {},
     "output_type": "execute_result"
    }
   ],
   "source": [
    "min_ssd"
   ]
  },
  {
   "cell_type": "code",
   "execution_count": 320,
   "metadata": {},
   "outputs": [
    {
     "data": {
      "text/plain": [
       "array([2.47780245, 2.55437377, 2.63831945, 2.70880663, 2.78825576,\n",
       "       2.91703508, 3.05487026, 3.18779427, 3.30366483, 3.37144344,\n",
       "       3.42934087, 3.49566951, 3.55378379])"
      ]
     },
     "execution_count": 320,
     "metadata": {},
     "output_type": "execute_result"
    }
   ],
   "source": [
    "Cpreds"
   ]
  },
  {
   "cell_type": "code",
   "execution_count": 394,
   "metadata": {},
   "outputs": [
    {
     "name": "stdout",
     "output_type": "stream",
     "text": [
      "12\n",
      "R_bankssts\n"
     ]
    },
    {
     "name": "stderr",
     "output_type": "stream",
     "text": [
      "<ipython-input-394-b76c6ac75b0a>:50: RuntimeWarning: invalid value encountered in power\n",
      "  Calpha_pred = pow(M*(1+S*Z*L),1/L)\n"
     ]
    }
   ],
   "source": [
    "list_centiles = [0.004, 0.01, 0.025, .05, .10, .25, .50, .75, .90, .95, .975, 0.99, .996]\n",
    "ages =[20,30,40,50,6,70,80,90]\n",
    "f_agerange= [5,10,15,20,30,40,50,60,70,80,90]\n",
    "m_agerange=[3,5,10,15,20,30,40,50,60,70,80,90]\n",
    "age_start=m_agerange.index(ages[0])\n",
    "print(age_start+len(ages))\n",
    "min_ssd = np.empty((len(rh_thickness.columns),len(ages)))\n",
    "best_params = np.empty((len(rh_thickness.columns),len(ages),3))\n",
    "\n",
    "for regionid in range(1,len(rh_thickness.columns)+1):\n",
    "    \n",
    "    region = rh_thickness.columns[regionid]\n",
    "    print(region)\n",
    "\n",
    "    #male\n",
    "    idx=np.empty((len(list_centiles),1))\n",
    "\n",
    "    for i in range(0,len(list_centiles)): idx[i] =np.where(male_centiles['Region']==region)[0][0]+i\n",
    "\n",
    "    for age in range(age_start,age_start+len(ages)):\n",
    "        centiles = male_centiles.iloc[idx[age]] #\n",
    "        centiles=centiles.values[0][2:15] # get rid of first 2 cols\n",
    "        \n",
    "        Z = st.norm.ppf(list_centiles) #alpha to Z via norm\n",
    "\n",
    "        Calphas_true = centiles\n",
    "        M=[]\n",
    "        L=[]\n",
    "        S=[]\n",
    "\n",
    "        nM =100\n",
    "        nL =100\n",
    "        nS =100\n",
    "        Ms = np.logspace(0,10,nM,base=2)\n",
    "        Ls = np.linspace(1,10,nL)\n",
    "        Ss = np.linspace(-0.1,0.1,nS)\n",
    "\n",
    "        Mc=np.arange(0,nM)\n",
    "        Sc=np.arange(0,nS)\n",
    "        Lc=np.arange(0,nL)\n",
    "\n",
    "        ssd = np.empty((nM,nL,nS))\n",
    "        lowestssd=1\n",
    "        for m in Mc: \n",
    "            M = Ms[m]\n",
    "            for l in Lc: \n",
    "                L=Ls[l]\n",
    "                for s in Sc:\n",
    "                    S = Ss[s]\n",
    "                    Calpha_pred = pow(M*(1+S*Z*L),1/L)\n",
    "                    \n",
    "                    ssd[m,l,s]=np.sum((Calpha_pred-Calphas_true)**2)\n",
    "                    if ssd[m,l,s] < lowestssd:\n",
    "                        lowestssd = ssd[m,l,s]\n",
    "                        Cpreds = Calpha_pred\n",
    "                        calphs=Calphas_true\n",
    "                        bestmls = [M,L,S]\n",
    "\n",
    "        min_ssd[regionid,age]=np.nanmin(ssd)\n",
    "        best_params[regionid,age,:,:,:]=bestmls\n",
    "    \n",
    "\n"
   ]
  },
  {
   "cell_type": "code",
   "execution_count": null,
   "metadata": {},
   "outputs": [],
   "source": [
    "np.where(male_centiles['Region']==region)[0][0]+i"
   ]
  },
  {
   "cell_type": "code",
   "execution_count": 370,
   "metadata": {},
   "outputs": [
    {
     "name": "stdout",
     "output_type": "stream",
     "text": [
      "13\n"
     ]
    }
   ],
   "source": [
    "print(len(list_centiles))"
   ]
  },
  {
   "cell_type": "code",
   "execution_count": 390,
   "metadata": {},
   "outputs": [
    {
     "data": {
      "text/plain": [
       "4"
      ]
     },
     "execution_count": 390,
     "metadata": {},
     "output_type": "execute_result"
    }
   ],
   "source": [
    "a\n",
    "\n"
   ]
  },
  {
   "cell_type": "code",
   "execution_count": 358,
   "metadata": {},
   "outputs": [
    {
     "data": {
      "text/plain": [
       "0.0013944551750008187"
      ]
     },
     "execution_count": 358,
     "metadata": {},
     "output_type": "execute_result"
    }
   ],
   "source": [
    "min_ssd[1]"
   ]
  },
  {
   "cell_type": "code",
   "execution_count": 332,
   "metadata": {},
   "outputs": [
    {
     "data": {
      "text/plain": [
       "0.9995944146832828"
      ]
     },
     "execution_count": 332,
     "metadata": {},
     "output_type": "execute_result"
    },
    {
     "data": {
      "image/png": "[encoded data removed]",
      "text/plain": [
       "<Figure size 432x288 with 1 Axes>"
      ]
     },
     "metadata": {
      "needs_background": "light"
     },
     "output_type": "display_data"
    }
   ],
   "source": [
    "plt.plot(Cpreds,Calphas_true)\n",
    "from sklearn.metrics import explained_variance_score\n",
    "explained_variance_score(Cpreds,Calphas_true)"
   ]
  }
 ],
 "metadata": {
  "kernelspec": {
   "display_name": "Python 3.9.2",
   "language": "python",
   "name": "python3"
  },
  "language_info": {
   "codemirror_mode": {
    "name": "ipython",
    "version": 3
   },
   "file_extension": ".py",
   "mimetype": "text/x-python",
   "name": "python",
   "nbconvert_exporter": "python",
   "pygments_lexer": "ipython3",
   "version": "3.9.2"
  },
  "orig_nbformat": 4,
  "vscode": {
   "interpreter": {
    "hash": "43d17ee6803eb3ad2d3e1d5dbc5a33b5df735f96b5206a5a478194b252558b80"
   }
  }
 },
 "nbformat": 4,
 "nbformat_minor": 2
}
