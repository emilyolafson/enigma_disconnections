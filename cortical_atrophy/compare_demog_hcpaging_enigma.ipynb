{
 "cells": [
  {
   "cell_type": "code",
   "execution_count": 85,
   "metadata": {},
   "outputs": [
    {
     "name": "stdout",
     "output_type": "stream",
     "text": [
      "0.25    54.0\n",
      "0.50    63.0\n",
      "0.75    71.0\n",
      "Name: AGE, dtype: float64\n",
      "0.25    47.167\n",
      "0.50    58.417\n",
      "0.75    72.417\n",
      "Name: age, dtype: float64\n",
      "1.7641730563980762, 0.07789105551638252\n",
      "61.599392891490545\n"
     ]
    },
    {
     "data": {
      "image/png": "[encoded data removed]",
      "text/plain": [
       "<Figure size 432x288 with 1 Axes>"
      ]
     },
     "metadata": {
      "needs_background": "light"
     },
     "output_type": "display_data"
    }
   ],
   "source": [
    "# compare demographic information between ENIGMA and HCPAging subjects\n",
    "\n",
    "import numpy as np\n",
    "import pandas as pd\n",
    "import matplotlib.pyplot as plt\n",
    "import seaborn\n",
    "\n",
    "from scipy.stats import ttest_ind\n",
    "\n",
    "enigma=pd.read_csv('/Users/emilyolafson/GIT/ENIGMA/data/Behaviour_Information_ALL_April7_2022.csv', header=0)\n",
    "hcpaging= pd.read_csv('/Users/emilyolafson/GIT/ENIGMA/data/HCPAGING/hcpaging_subject_info.csv', header=0)\n",
    "\n",
    "# load subjects that have freesurfer data & time since stroke:\n",
    "enigma_zscore = pd.read_csv('/Users/emilyolafson/GIT/ENIGMA/data/FREESURFER/zscores_aseg_aparc_vol_ENIGMA_HCPaging.csv', header=0)\n",
    "enigma=enigma.loc[enigma['BIDS_ID'].isin(np.array(enigma_zscore['Subject']))]\n",
    "\n",
    "enigma['AGE']\n",
    "hcpaging['age']\n",
    "\n",
    "[stat, pval]=ttest_ind(enigma['AGE'], hcpaging['age'], nan_policy='omit')\n",
    "print(enigma['AGE'].quantile([0.25,0.5,0.75]))\n",
    "print(hcpaging['age'].quantile([0.25,0.5,0.75]))\n",
    "\n",
    "plt.boxplot(hcpaging['age'], showmeans=True, whis=99)\n",
    "\n",
    "print(\"{}, {}\".format(stat, pval))\n",
    "\n",
    "#print(enigma.loc[enigma['BIDS_ID'].isin(np.array(enigma_zscore['Subject']))])\n",
    "#seaborn.histplot(enigma['AGE'],bins=50)\n",
    "print(np.mean(enigma['AGE']))\n",
    "#plt.xlim([0, 100])\n"
   ]
  },
  {
   "cell_type": "code",
   "execution_count": 83,
   "metadata": {},
   "outputs": [
    {
     "data": {
      "image/png": "[encoded data removed]",
      "text/plain": [
       "<Figure size 432x288 with 1 Axes>"
      ]
     },
     "metadata": {
      "needs_background": "light"
     },
     "output_type": "display_data"
    }
   ],
   "source": [
    "box = plt.boxplot(enigma['AGE'].dropna(), showmeans=True, whis=99)"
   ]
  },
  {
   "cell_type": "code",
   "execution_count": 86,
   "metadata": {},
   "outputs": [
    {
     "name": "stdout",
     "output_type": "stream",
     "text": [
      "60.35539724137931\n"
     ]
    },
    {
     "data": {
      "text/plain": [
       "(0.0, 100.0)"
      ]
     },
     "execution_count": 86,
     "metadata": {},
     "output_type": "execute_result"
    },
    {
     "data": {
      "image/png": "[encoded data removed]",
      "text/plain": [
       "<Figure size 432x288 with 1 Axes>"
      ]
     },
     "metadata": {
      "needs_background": "light"
     },
     "output_type": "display_data"
    }
   ],
   "source": [
    "seaborn.histplot(enigma['AGE'],bins=50)\n",
    "print(np.mean(hcpaging['age']))\n",
    "plt.xlim([0, 100])"
   ]
  },
  {
   "cell_type": "code",
   "execution_count": 87,
   "metadata": {},
   "outputs": [
    {
     "data": {
      "text/plain": [
       "93.0"
      ]
     },
     "execution_count": 87,
     "metadata": {},
     "output_type": "execute_result"
    }
   ],
   "source": [
    "np.max(enigma['AGE'])"
   ]
  },
  {
   "cell_type": "code",
   "execution_count": null,
   "metadata": {},
   "outputs": [],
   "source": []
  },
  {
   "cell_type": "code",
   "execution_count": null,
   "metadata": {},
   "outputs": [],
   "source": []
  }
 ],
 "metadata": {
  "kernelspec": {
   "display_name": "Python 3.9.2",
   "language": "python",
   "name": "python3"
  },
  "language_info": {
   "codemirror_mode": {
    "name": "ipython",
    "version": 3
   },
   "file_extension": ".py",
   "mimetype": "text/x-python",
   "name": "python",
   "nbconvert_exporter": "python",
   "pygments_lexer": "ipython3",
   "version": "3.9.2"
  },
  "orig_nbformat": 4,
  "vscode": {
   "interpreter": {
    "hash": "43d17ee6803eb3ad2d3e1d5dbc5a33b5df735f96b5206a5a478194b252558b80"
   }
  }
 },
 "nbformat": 4,
 "nbformat_minor": 2
}
