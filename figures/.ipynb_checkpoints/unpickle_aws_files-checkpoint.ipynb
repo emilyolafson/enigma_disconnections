{
 "cells": [
  {
   "cell_type": "code",
   "execution_count": 5,
   "id": "shaped-brush",
   "metadata": {},
   "outputs": [],
   "source": [
    "import pickle\n",
    "import numpy as np\n",
    "import scipy.io as sio\n",
    "import os\n",
    "    "
   ]
  },
  {
   "cell_type": "code",
   "execution_count": 3,
   "id": "noticed-incident",
   "metadata": {},
   "outputs": [],
   "source": [
    "for i in range(0,100):\n",
    "    pklfile = '/Users/emilyolafson/GIT/ENIGMA/enigma_disconnections/correlation_pairwiseSDC_shen268/correlationp'+str(i)+'_SC_bestalphas.pkl'\n",
    "    with open(pklfile, 'r+b') as e:\n",
    "        data = pickle.load(e)\n",
    "        sio.savemat(pklfile.replace(\".pkl\",\".mat\"),{\"data\":data})\n",
    "        \n",
    "for i in range(0,100):\n",
    "    pklfile = '/Users/emilyolafson/GIT/ENIGMA/enigma_disconnections/correlation_pairwiseSDC_fs86/correlationp'+str(i)+'_SC_bestalphas.pkl'\n",
    "    with open(pklfile, 'r+b') as e:\n",
    "        data = pickle.load(e)\n",
    "        sio.savemat(pklfile.replace(\".pkl\",\".mat\"),{\"data\":data})\n",
    "          \n",
    "\n"
   ]
  },
  {
   "cell_type": "code",
   "execution_count": 3,
   "id": "black-turning",
   "metadata": {},
   "outputs": [],
   "source": [
    "for i in range(0,100):\n",
    "    pklfile = '/Users/emilyolafson/GIT/ENIGMA/enigma_disconnections/correlation_regionalSDC_shen268/correlationp'+str(i)+'_SC_bestalphas.pkl'\n",
    "    with open(pklfile, 'r+b') as e:\n",
    "        data = pickle.load(e)\n",
    "        sio.savemat(pklfile.replace(\".pkl\",\".mat\"),{\"data\":data})\n",
    "        \n",
    "for i in range(0,100):\n",
    "    pklfile = '/Users/emilyolafson/GIT/ENIGMA/enigma_disconnections/correlation_regionalSDC_fs86/correlationp'+str(i)+'_SC_bestalphas.pkl'\n",
    "    with open(pklfile, 'r+b') as e:\n",
    "        data = pickle.load(e)\n",
    "        sio.savemat(pklfile.replace(\".pkl\",\".mat\"),{\"data\":data})\n",
    "          \n",
    "\n"
   ]
  },
  {
   "cell_type": "code",
   "execution_count": 4,
   "id": "economic-excerpt",
   "metadata": {},
   "outputs": [],
   "source": [
    "for i in range(0,100):\n",
    "    pklfile = '/Users/emilyolafson/GIT/ENIGMA/enigma_disconnections/correlation_pairwiseSDC_shen268/correlationp'+str(i)+'_SC_varimpt.pkl'\n",
    "    with open(pklfile, 'r+b') as e:\n",
    "        data = pickle.load(e)        \n",
    "        sio.savemat(pklfile.replace(\".pkl\",\".mat\"),{\"data1\":data[0],\"data2\":data[1],\"data3\":data[2],\"data4\":data[3],\"data5\":data[4]})\n",
    "        \n",
    "for i in range(0,100):\n",
    "    pklfile = '/Users/emilyolafson/GIT/ENIGMA/enigma_disconnections/correlation_pairwiseSDC_fs86/correlationp'+str(i)+'_SC_varimpt.pkl'\n",
    "    with open(pklfile, 'r+b') as e:\n",
    "        data = pickle.load(e)        \n",
    "        sio.savemat(pklfile.replace(\".pkl\",\".mat\"),{\"data1\":data[0],\"data2\":data[1],\"data3\":data[2],\"data4\":data[3],\"data5\":data[4]})\n",
    " \n"
   ]
  },
  {
   "cell_type": "code",
   "execution_count": 4,
   "id": "raised-tamil",
   "metadata": {},
   "outputs": [],
   "source": [
    "for i in range(0,100):\n",
    "    pklfile = '/Users/emilyolafson/GIT/ENIGMA/enigma_disconnections/correlation_regionalSDC_shen268/correlationp'+str(i)+'_SC_varimpt.pkl'\n",
    "    with open(pklfile, 'r+b') as e:\n",
    "        data = pickle.load(e)        \n",
    "        sio.savemat(pklfile.replace(\".pkl\",\".mat\"),{\"data1\":data[0],\"data2\":data[1],\"data3\":data[2],\"data4\":data[3],\"data5\":data[4]})\n",
    "        \n",
    "for i in range(0,100):\n",
    "    pklfile = '/Users/emilyolafson/GIT/ENIGMA/enigma_disconnections/correlation_regionalSDC_fs86/correlationp'+str(i)+'_SC_varimpt.pkl'\n",
    "    with open(pklfile, 'r+b') as e:\n",
    "        data = pickle.load(e)        \n",
    "        sio.savemat(pklfile.replace(\".pkl\",\".mat\"),{\"data1\":data[0],\"data2\":data[1],\"data3\":data[2],\"data4\":data[3],\"data5\":data[4]})\n",
    " \n"
   ]
  },
  {
   "cell_type": "code",
   "execution_count": 5,
   "id": "starting-deposit",
   "metadata": {},
   "outputs": [
    {
     "name": "stderr",
     "output_type": "stream",
     "text": [
      "/Users/emilyolafson/miniforge3/envs/myenv/lib/python3.9/site-packages/numpy/core/_asarray.py:171: VisibleDeprecationWarning: Creating an ndarray from ragged nested sequences (which is a list-or-tuple of lists-or-tuples-or ndarrays with different lengths or shapes) is deprecated. If you meant to do this, you must specify 'dtype=object' when creating the ndarray.\n",
      "  return array(a, dtype, copy=False, order=order, subok=True)\n"
     ]
    }
   ],
   "source": [
    "for i in range(0,100):\n",
    "    pklfile = '/Users/emilyolafson/GIT/ENIGMA/enigma_disconnections/correlation_pairwiseSDC_shen268/correlationp'+str(i)+'_SC_features.pkl'\n",
    "    with open(pklfile, 'r+b') as e:\n",
    "        data = pickle.load(e)\n",
    "        sio.savemat(pklfile.replace(\".pkl\",\".mat\"),{\"data\":data})\n",
    "        \n",
    "for i in range(0,100):\n",
    "    pklfile = '/Users/emilyolafson/GIT/ENIGMA/enigma_disconnections/correlation_pairwiseSDC_fs86/correlationp'+str(i)+'_SC_features.pkl'\n",
    "    with open(pklfile, 'r+b') as e:\n",
    "        data = pickle.load(e)\n",
    "        sio.savemat(pklfile.replace(\".pkl\",\".mat\"),{\"data\":data})\n",
    "\n"
   ]
  },
  {
   "cell_type": "code",
   "execution_count": 5,
   "id": "still-inspection",
   "metadata": {},
   "outputs": [
    {
     "name": "stderr",
     "output_type": "stream",
     "text": [
      "/Users/emilyolafson/miniforge3/envs/myenv/lib/python3.9/site-packages/numpy/core/_asarray.py:171: VisibleDeprecationWarning: Creating an ndarray from ragged nested sequences (which is a list-or-tuple of lists-or-tuples-or ndarrays with different lengths or shapes) is deprecated. If you meant to do this, you must specify 'dtype=object' when creating the ndarray.\n",
      "  return array(a, dtype, copy=False, order=order, subok=True)\n"
     ]
    }
   ],
   "source": [
    "for i in range(0,100):\n",
    "    pklfile = '/Users/emilyolafson/GIT/ENIGMA/enigma_disconnections/correlation_regionalSDC_shen268/correlationp'+str(i)+'_SC_features.pkl'\n",
    "    with open(pklfile, 'r+b') as e:\n",
    "        data = pickle.load(e)\n",
    "        sio.savemat(pklfile.replace(\".pkl\",\".mat\"),{\"data\":data})\n",
    "        \n",
    "for i in range(0,100):\n",
    "    pklfile = '/Users/emilyolafson/GIT/ENIGMA/enigma_disconnections/correlation_regionalSDC_fs86/correlationp'+str(i)+'_SC_features.pkl'\n",
    "    with open(pklfile, 'r+b') as e:\n",
    "        data = pickle.load(e)\n",
    "        sio.savemat(pklfile.replace(\".pkl\",\".mat\"),{\"data\":data})\n",
    "\n"
   ]
  },
  {
   "cell_type": "code",
   "execution_count": null,
   "id": "spanish-resistance",
   "metadata": {},
   "outputs": [],
   "source": [
    "pklfile = '/Users/emilyolafson/GIT/ENIGMA/enigma_disconnections/correlation_regionalSDC_fs86/fullactivations.pkl'\n",
    "with open(pklfile, 'r+b') as e:\n",
    "    datatmp = pickle.load(e)\n",
    "    for i in range(0,100):\n",
    "    data=[]\n",
    "        for k in range(0,5):\n",
    "            data.append(datatmp[i][k].flatten())\n",
    "        sio.savemat('/Users/emilyolafson/GIT/ENIGMA/enigma_disconnections/correlation_regionalSDC_fs86/correlation_regionalSDC_fs86_p'+str(i)+'_fullactivations.mat',{\"data\":data})\n",
    "            \n",
    "pklfile = '/Users/emilyolafson/GIT/ENIGMA/enigma_disconnections/correlation_regionalSDC_shen268/fullactivations.pkl'\n",
    "with open(pklfile, 'r+b') as e:\n",
    "    datatmp = pickle.load(e)\n",
    "    data=[]\n",
    "    for i in range(0,100):\n",
    "        for k in range(0,5):\n",
    "            data.append(datatmp[i][k].flatten())\n",
    "        sio.savemat('/Users/emilyolafson/GIT/ENIGMA/enigma_disconnections/correlation_regionalSDC_shen268/correlation_regionalSDC_fs86_p'+str(i)+'_fullactivations.mat',{\"data\":data})\n",
    "\n",
    "pklfile = '/Users/emilyolafson/GIT/ENIGMA/enigma_disconnections/correlation_pairwiseSDC_fs86/fullactivations.pkl'\n",
    "with open(pklfile, 'r+b') as e:\n",
    "    datatmp = pickle.load(e)\n",
    "    data=[]\n",
    "    for i in range(0,100):\n",
    "        for k in range(0,5):\n",
    "            data.append(datatmp[i][k].flatten())\n",
    "        sio.savemat('/Users/emilyolafson/GIT/ENIGMA/enigma_disconnections/correlation_pairwiseSDC_fs86/correlation_regionalSDC_fs86_p'+str(i)+'_fullactivations.mat',{\"data\":data})\n",
    "            \n",
    "pklfile = '/Users/emilyolafson/GIT/ENIGMA/enigma_disconnections/correlation_pairwiseSDC_shen268/fullactivations.pkl'\n",
    "with open(pklfile, 'r+b') as e:\n",
    "    datatmp = pickle.load(e)\n",
    "    data=[]\n",
    "    for i in range(0,100):\n",
    "        for k in range(0,5):\n",
    "            data.append(datatmp[i][k].flatten())\n",
    "        sio.savemat('/Users/emilyolafson/GIT/ENIGMA/enigma_disconnections/correlation_pairwiseSDC_shen268/correlation_regionalSDC_fs86_p'+str(i)+'_fullactivations.mat',{\"data\":data})\n",
    "        \n",
    "\n",
    "\n",
    "\n"
   ]
  },
  {
   "cell_type": "code",
   "execution_count": 52,
   "id": "white-drunk",
   "metadata": {},
   "outputs": [
    {
     "data": {
      "text/plain": [
       "100"
      ]
     },
     "execution_count": 52,
     "metadata": {},
     "output_type": "execute_result"
    }
   ],
   "source": [
    "len(datatmp)"
   ]
  }
 ],
 "metadata": {
  "kernelspec": {
   "display_name": "Python 3",
   "language": "python",
   "name": "python3"
  },
  "language_info": {
   "codemirror_mode": {
    "name": "ipython",
    "version": 3
   },
   "file_extension": ".py",
   "mimetype": "text/x-python",
   "name": "python",
   "nbconvert_exporter": "python",
   "pygments_lexer": "ipython3",
   "version": "3.9.2"
  }
 },
 "nbformat": 4,
 "nbformat_minor": 5
}
